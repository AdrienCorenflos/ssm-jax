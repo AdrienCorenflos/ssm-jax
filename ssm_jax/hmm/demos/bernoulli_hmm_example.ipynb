{
 "cells": [
  {
   "cell_type": "markdown",
   "metadata": {
    "id": "5mvqmh1jM45B"
   },
   "source": [
    "# Bernoulli HMM Example Notebook\n",
    "\n",
    "Modified from https://github.com/lindermanlab/ssm-jax-refactor/blob/main/notebooks/bernoulli-hmm-example.ipynb\n",
    "\n",
    "Changes: It uses pyprobml's ssm-jax library, and finds the permutation between inferrred and true latent state labels in a different way.\n"
   ]
  },
  {
   "cell_type": "code",
   "execution_count": 1,
   "metadata": {
    "id": "FTGtH5DmzNmy"
   },
   "outputs": [],
   "source": [
    "# Silence WARNING:root:The use of `check_types` is deprecated and does not have any effect.\n",
    "# https://github.com/tensorflow/probability/issues/1523\n",
    "import logging\n",
    "\n",
    "logger = logging.getLogger()\n",
    "\n",
    "\n",
    "class CheckTypesFilter(logging.Filter):\n",
    "    def filter(self, record):\n",
    "        return \"check_types\" not in record.getMessage()\n",
    "\n",
    "\n",
    "logger.addFilter(CheckTypesFilter())"
   ]
  },
  {
   "cell_type": "code",
   "execution_count": 2,
   "metadata": {
    "colab": {
     "base_uri": "https://localhost:8080/"
    },
    "id": "PExYKblDM45N",
    "outputId": "07cf49b3-8287-4fae-f292-93c0560db6ae"
   },
   "outputs": [],
   "source": [
    "try:\n",
    "    import ssm_jax\n",
    "except ModuleNotFoundError:\n",
    "    %pip install git+https://github.com/probml/ssm-jax.git\n",
    "    import ssm_jax"
   ]
  },
  {
   "cell_type": "code",
   "execution_count": 3,
   "metadata": {
    "colab": {
     "base_uri": "https://localhost:8080/"
    },
    "id": "4Q6lUKyMzMFF",
    "outputId": "498408e9-b9ad-4aa4-ecd6-8746d3ef8deb"
   },
   "outputs": [],
   "source": [
    "try:\n",
    "    from probml_utils import savefig, latexify, is_latexify_enabled\n",
    "except ModuleNotFoundError:\n",
    "    %pip install git+https://github.com/probml/probml-utils.git\n",
    "    from probml_utils import savefig, latexify, is_latexify_enabled"
   ]
  },
  {
   "cell_type": "markdown",
   "metadata": {
    "id": "yGKxrd0oM45R"
   },
   "source": [
    "#### Imports and Plotting Functions "
   ]
  },
  {
   "cell_type": "code",
   "execution_count": 4,
   "metadata": {
    "colab": {
     "base_uri": "https://localhost:8080/"
    },
    "id": "lSS0U4OTmy1f",
    "outputId": "426e54f0-0f49-48d2-ab30-a89fab04a1fe"
   },
   "outputs": [],
   "source": [
    "import jax.random as jr\n",
    "import jax.numpy as jnp\n",
    "from jax import vmap\n",
    "\n",
    "import tensorflow_probability.substrates.jax.bijectors as tfb\n",
    "import tensorflow_probability.substrates.jax.distributions as tfd\n",
    "\n",
    "import seaborn as sns\n",
    "import matplotlib.pyplot as plt\n",
    "from matplotlib.colors import LinearSegmentedColormap\n",
    "\n",
    "# from scipy.optimize import linear_sum_assignment\n",
    "\n",
    "from ssm_jax.hmm.models import BernoulliHMM\n",
    "from ssm_jax.hmm.learning import hmm_fit_em"
   ]
  },
  {
   "cell_type": "code",
   "execution_count": 5,
   "metadata": {
    "id": "WJ7rVLxfmpPS"
   },
   "outputs": [],
   "source": [
    "def gradient_cmap(colors, nsteps=256, bounds=None):\n",
    "    \"\"\"Return a colormap that interpolates between a set of colors.\n",
    "    Ported from HIPS-LIB plotting functions [https://github.com/HIPS/hips-lib]\n",
    "    Reference:\n",
    "    https://github.com/lindermanlab/ssm/blob/646e1889ec9a7efb37d4153f7034c258745c83a5/ssm/plots.py#L20\n",
    "    \"\"\"\n",
    "    ncolors = len(colors)\n",
    "    # assert colors.shape[1] == 3\n",
    "    if bounds is None:\n",
    "        bounds = jnp.linspace(0, 1, ncolors)\n",
    "\n",
    "    reds = []\n",
    "    greens = []\n",
    "    blues = []\n",
    "    alphas = []\n",
    "    for b, c in zip(bounds, colors):\n",
    "        reds.append((b, c[0], c[0]))\n",
    "        greens.append((b, c[1], c[1]))\n",
    "        blues.append((b, c[2], c[2]))\n",
    "        alphas.append((b, c[3], c[3]) if len(c) == 4 else (b, 1.0, 1.0))\n",
    "\n",
    "    cdict = {\"red\": tuple(reds), \"green\": tuple(greens), \"blue\": tuple(blues), \"alpha\": tuple(alphas)}\n",
    "\n",
    "    cmap = LinearSegmentedColormap(\"grad_colormap\", cdict, nsteps)\n",
    "    return cmap"
   ]
  },
  {
   "cell_type": "code",
   "execution_count": 6,
   "metadata": {
    "id": "yIq0_Y7TnfE1"
   },
   "outputs": [],
   "source": [
    "def find_permutation(z1, z2):\n",
    "    K1 = z1.max() + 1\n",
    "    K2 = z2.max() + 1\n",
    "\n",
    "    perm = []\n",
    "    for k1 in range(K1):\n",
    "        indices = jnp.where(z1 == k1)[0]\n",
    "        counts = jnp.bincount(z2[indices])\n",
    "        perm.append(jnp.argmax(counts))\n",
    "\n",
    "    return jnp.array(perm)"
   ]
  },
  {
   "cell_type": "code",
   "execution_count": 7,
   "metadata": {
    "id": "ro1UeR0b0A6d"
   },
   "outputs": [],
   "source": [
    "sns.set_style(\"white\")\n",
    "sns.set_context(\"talk\")\n",
    "\n",
    "color_names = [\"windows blue\", \"red\", \"amber\", \"faded green\", \"dusty purple\", \"orange\"]\n",
    "colors = sns.xkcd_palette(color_names)\n",
    "cmap = gradient_cmap(colors)\n",
    "\n",
    "\n",
    "def plot_transition_matrix(transition_matrix):\n",
    "    plt.imshow(transition_matrix, vmin=0, vmax=1, cmap=\"Greys\")\n",
    "    plt.xlabel(\"next state\")\n",
    "    plt.ylabel(\"current state\")\n",
    "    plt.colorbar()\n",
    "    plt.show()\n",
    "\n",
    "\n",
    "def compare_transition_matrix(true_matrix, test_matrix):\n",
    "    # latexify(width_scale_factor=1, fig_height=1.5)\n",
    "    figsize = (10, 5)\n",
    "    if is_latexify_enabled():\n",
    "        figsize = None\n",
    "    latexify(width_scale_factor=1, fig_height=1.5)\n",
    "    fig, axs = plt.subplots(1, 2, figsize=figsize)\n",
    "    out = axs[0].imshow(true_matrix, vmin=0, vmax=1, cmap=\"Greys\")\n",
    "    axs[1].imshow(test_matrix, vmin=0, vmax=1, cmap=\"Greys\")\n",
    "    axs[0].set_title(\"True Transition Matrix\")\n",
    "    axs[1].set_title(\"Test Transition Matrix\")\n",
    "    cax = fig.add_axes(\n",
    "        [\n",
    "            axs[1].get_position().x1 + 0.07,\n",
    "            axs[1].get_position().y0,\n",
    "            0.02,\n",
    "            axs[1].get_position().y1 - axs[1].get_position().y0,\n",
    "        ]\n",
    "    )\n",
    "    plt.colorbar(out, cax=cax)\n",
    "    plt.show()\n",
    "\n",
    "\n",
    "def plot_posterior_states(Ez, states, perm):\n",
    "    # latexify(width_scale_factor=1, fig_height=1.5)\n",
    "    figsize = (25, 5)\n",
    "    if is_latexify_enabled():\n",
    "        figsize = None\n",
    "    plt.figure(figsize=figsize)\n",
    "    plt.imshow(Ez.T[perm], aspect=\"auto\", interpolation=\"none\", cmap=\"Greys\")\n",
    "    plt.plot(states, label=\"True State\", linewidth=1)\n",
    "    plt.plot(Ez.T[perm].argmax(axis=0), \"--\", label=\"Predicted State\", linewidth=1)\n",
    "    plt.xlabel(\"time\")\n",
    "    plt.ylabel(\"latent state\")\n",
    "    plt.legend(bbox_to_anchor=(1, 1))\n",
    "    plt.title(\"Predicted vs. Ground Truth Latent State\")"
   ]
  },
  {
   "cell_type": "markdown",
   "metadata": {
    "id": "UJyD2rs2M45V"
   },
   "source": [
    "# Bernoulli HMM"
   ]
  },
  {
   "cell_type": "markdown",
   "metadata": {
    "id": "vGNkra1LM45W"
   },
   "source": [
    "### Let's create a true model"
   ]
  },
  {
   "cell_type": "code",
   "execution_count": 8,
   "metadata": {
    "id": "KxkZXFobM45X"
   },
   "outputs": [],
   "source": [
    "num_states = 5\n",
    "num_channels = 10\n",
    "\n",
    "initial_probabilities = jnp.ones((num_states,)) / (num_states * 1.0)\n",
    "transition_matrix = 0.90 * jnp.eye(num_states) + 0.10 * jnp.ones((num_states, num_states)) / num_states\n",
    "probs_prior = tfd.Beta(1, 1)\n",
    "emission_probabilities = probs_prior.sample(seed=jr.PRNGKey(0), sample_shape=(num_states, num_channels))\n",
    "\n",
    "true_hmm = BernoulliHMM(initial_probabilities, transition_matrix, emission_probabilities)"
   ]
  },
  {
   "cell_type": "code",
   "execution_count": 9,
   "metadata": {
    "colab": {
     "base_uri": "https://localhost:8080/",
     "height": 308
    },
    "id": "KFw9jPVmpZZt",
    "outputId": "e59f75c2-c2f9-459d-9d9c-abb4967f1957"
   },
   "outputs": [
    {
     "data": {
      "image/png": "[encoded data removed]",
      "text/plain": [
       "<Figure size 432x288 with 2 Axes>"
      ]
     },
     "metadata": {
      "needs_background": "light"
     },
     "output_type": "display_data"
    }
   ],
   "source": [
    "plot_transition_matrix(true_hmm.transition_matrix)"
   ]
  },
  {
   "cell_type": "code",
   "execution_count": 10,
   "metadata": {
    "colab": {
     "base_uri": "https://localhost:8080/"
    },
    "id": "PvxApVZjM45b",
    "outputId": "a8c89f45-cc1a-4697-a546-2a4c399b3558"
   },
   "outputs": [
    {
     "name": "stdout",
     "output_type": "stream",
     "text": [
      "Emission probabilities (num states x num emission_dims (aka channels)):\n",
      "[[0.5101075  0.37463653 0.15845723 0.92877907 0.915876   0.2781816\n",
      "  0.07606837 0.67227226 0.02824288 0.8792381 ]\n",
      " [0.60166305 0.17131579 0.8953847  0.16232777 0.21001732 0.3545916\n",
      "  0.37099373 0.6553223  0.5685262  0.5294375 ]\n",
      " [0.86292917 0.07698138 0.21009283 0.48858947 0.91662025 0.9897732\n",
      "  0.7091185  0.19263761 0.57043606 0.5730329 ]\n",
      " [0.977979   0.7871507  0.49274066 0.9426948  0.4235999  0.36467838\n",
      "  0.07442135 0.20010759 0.11953039 0.34888312]\n",
      " [0.59595954 0.65374476 0.6496834  0.7097438  0.03907026 0.29472747\n",
      "  0.20753238 0.11125415 0.6862083  0.60004115]]\n"
     ]
    }
   ],
   "source": [
    "print(\"Emission probabilities (num states x num emission_dims (aka channels)):\")\n",
    "print(true_hmm.emission_probs)"
   ]
  },
  {
   "cell_type": "markdown",
   "metadata": {
    "id": "dMyyOCMiM45d"
   },
   "source": [
    "### From the true model, we can sample synthetic data"
   ]
  },
  {
   "cell_type": "code",
   "execution_count": 11,
   "metadata": {
    "id": "FtB9i2kWM45e"
   },
   "outputs": [],
   "source": [
    "rng = jr.PRNGKey(0)\n",
    "num_timesteps = 500\n",
    "\n",
    "states, data = true_hmm.sample(rng, num_timesteps)"
   ]
  },
  {
   "cell_type": "markdown",
   "metadata": {
    "id": "HvNTMOuxM45f"
   },
   "source": [
    "### Let's view the synthetic data"
   ]
  },
  {
   "cell_type": "code",
   "execution_count": 12,
   "metadata": {
    "colab": {
     "base_uri": "https://localhost:8080/",
     "height": 538
    },
    "id": "958ZS6JVM45f",
    "outputId": "bc7d8d05-9257-477a-ab61-4e9049522195"
   },
   "outputs": [
    {
     "data": {
      "image/png": "[encoded data removed]",
      "text/plain": [
       "<Figure size 1440x576 with 2 Axes>"
      ]
     },
     "metadata": {
      "needs_background": "light"
     },
     "output_type": "display_data"
    }
   ],
   "source": [
    "fig, axs = plt.subplots(2, 1, sharex=True, figsize=(20, 8))\n",
    "axs[0].imshow(data.T, aspect=\"auto\", interpolation=\"none\")\n",
    "axs[0].set_ylabel(\"channel\")\n",
    "axs[0].set_title(\"Simulated Data\")\n",
    "axs[1].plot(states)\n",
    "axs[1].set_title(\"Latent State\")\n",
    "axs[1].set_xlabel(\"time\")\n",
    "axs[1].set_ylabel(\"state\")\n",
    "plt.show()"
   ]
  },
  {
   "cell_type": "code",
   "execution_count": 13,
   "metadata": {
    "colab": {
     "base_uri": "https://localhost:8080/",
     "height": 587
    },
    "id": "4eIKleZLznTD",
    "outputId": "41b9033d-c185-453c-e0cf-3c3b0d3d5987"
   },
   "outputs": [
    {
     "name": "stderr",
     "output_type": "stream",
     "text": [
      "/Users/slinderman/miniconda3/lib/python3.9/site-packages/probml_utils/plotting.py:26: UserWarning: LATEXIFY environment variable not set, not latexifying\n",
      "  warnings.warn(\"LATEXIFY environment variable not set, not latexifying\")\n",
      "/Users/slinderman/miniconda3/lib/python3.9/site-packages/probml_utils/plotting.py:80: UserWarning: set FIG_DIR environment variable to save figures\n",
      "  warnings.warn(\"set FIG_DIR environment variable to save figures\")\n"
     ]
    },
    {
     "data": {
      "image/png": "[encoded data removed]",
      "text/plain": [
       "<Figure size 1440x576 with 2 Axes>"
      ]
     },
     "metadata": {
      "needs_background": "light"
     },
     "output_type": "display_data"
    }
   ],
   "source": [
    "latexify(width_scale_factor=1, fig_height=2)\n",
    "figsize = (20, 8)\n",
    "if is_latexify_enabled():\n",
    "    figsize = None\n",
    "fig, axs = plt.subplots(2, 1, sharex=True, figsize=figsize)\n",
    "axs[0].imshow(data.T, aspect=\"auto\", interpolation=\"none\")\n",
    "axs[0].set_ylabel(\"observable\")\n",
    "axs[0].set_yticks([0, 4, 8])\n",
    "axs[1].plot(states, linewidth=1)\n",
    "axs[1].set_xlabel(\"time\")\n",
    "axs[1].set_ylabel(\"state\")\n",
    "axs[1].set_yticks([0, 2, 4])\n",
    "axs[1].spines[\"right\"].set_visible(False)\n",
    "axs[1].spines[\"top\"].set_visible(False)\n",
    "if is_latexify_enabled():\n",
    "    plt.subplots_adjust(hspace=4)\n",
    "savefig(\"bernoulli-hmm-data\")\n",
    "plt.show()"
   ]
  },
  {
   "cell_type": "markdown",
   "metadata": {
    "id": "DFVYziNuM45g"
   },
   "source": [
    "## Fit HMM using exact EM update"
   ]
  },
  {
   "cell_type": "code",
   "execution_count": 14,
   "metadata": {
    "id": "_YSFVQnMM45h"
   },
   "outputs": [],
   "source": [
    "emission_probabilities = probs_prior.sample(seed=jr.PRNGKey(32), sample_shape=(num_states, num_channels))\n",
    "test_hmm = BernoulliHMM(initial_probabilities, transition_matrix, emission_probabilities)"
   ]
  },
  {
   "cell_type": "code",
   "execution_count": 15,
   "metadata": {
    "colab": {
     "base_uri": "https://localhost:8080/",
     "height": 49,
     "referenced_widgets": [
      "91c8e1caf9f84f72bb9bc74758a1ae64",
      "742c8a837eef477db62cfa019c1e7e38",
      "778c754a8c8d4219af4ccb982ae4b566",
      "0e57bbc0bb5f4f7a88ff089e3ba3177f",
      "5b8cd2b6c8144525ae9f91d761a81d29",
      "5e091fb6b95349409e25836129e36ceb",
      "97a21de0683348c8b3ded6d5b461dfde",
      "d95b15e3e9de46fdb9735382b9e8eb77",
      "05427155afed4068af62112dab17d175",
      "8927208732984d539ccba9186c4b750c",
      "ccac12a17a56467ca10c80296b5b4dbd"
     ]
    },
    "id": "18dUmRQVqPkJ",
    "outputId": "55db5954-6f51-425b-877b-ce3362daab02"
   },
   "outputs": [
    {
     "data": {
      "application/vnd.jupyter.widget-view+json": {
       "model_id": "dfe9fbea7f2c40249b9fb00895341e9b",
       "version_major": 2,
       "version_minor": 0
      },
      "text/plain": [
       "  0%|          | 0/20 [00:00<?, ?it/s]"
      ]
     },
     "metadata": {},
     "output_type": "display_data"
    }
   ],
   "source": [
    "batch_size = 1\n",
    "num_iters = 20\n",
    "test_hmm, lps, posterior = hmm_fit_em(\n",
    "    test_hmm, data.reshape((batch_size, num_timesteps, num_channels)), num_iters=num_iters\n",
    ")"
   ]
  },
  {
   "cell_type": "code",
   "execution_count": 16,
   "metadata": {
    "colab": {
     "base_uri": "https://localhost:8080/",
     "height": 319
    },
    "id": "pjZLIiUkM45i",
    "outputId": "e1d8aee8-aca7-4d99-bfed-6edf9eb35d82"
   },
   "outputs": [
    {
     "data": {
      "text/plain": [
       "Text(0, 0.5, 'log likelihood')"
      ]
     },
     "execution_count": 16,
     "metadata": {},
     "output_type": "execute_result"
    },
    {
     "data": {
      "image/png": "[encoded data removed]",
      "text/plain": [
       "<Figure size 432x288 with 1 Axes>"
      ]
     },
     "metadata": {
      "needs_background": "light"
     },
     "output_type": "display_data"
    }
   ],
   "source": [
    "# Plot the log probabilities\n",
    "plt.plot(lps)\n",
    "plt.xlabel(\"iteration\")\n",
    "plt.ylabel(\"log likelihood\")"
   ]
  },
  {
   "cell_type": "code",
   "execution_count": 17,
   "metadata": {
    "colab": {
     "base_uri": "https://localhost:8080/"
    },
    "id": "1jKNNGbntrxP",
    "outputId": "3003aa1f-ed4e-49d8-ea02-5bf5301d9ec2"
   },
   "outputs": [
    {
     "data": {
      "text/plain": [
       "DeviceArray([[9.4316900e-01, 2.4365956e-02, 1.1692773e-02, 1.1754557e-02,\n",
       "              9.0177674e-03],\n",
       "             [2.4959855e-02, 9.2061883e-01, 8.3389136e-07, 1.7027538e-02,\n",
       "              3.7392825e-02],\n",
       "             [3.5593598e-06, 1.9439027e-02, 9.0361345e-01, 7.6941960e-02,\n",
       "              2.0690723e-06],\n",
       "             [2.4483036e-02, 1.7037809e-02, 9.3631819e-03, 9.2187935e-01,\n",
       "              2.7236650e-02],\n",
       "             [1.5040541e-06, 3.9838456e-02, 2.6581623e-02, 9.2573464e-03,\n",
       "              9.2432106e-01]], dtype=float32)"
      ]
     },
     "execution_count": 17,
     "metadata": {},
     "output_type": "execute_result"
    }
   ],
   "source": [
    "test_hmm.transition_matrix"
   ]
  },
  {
   "cell_type": "code",
   "execution_count": 18,
   "metadata": {
    "colab": {
     "base_uri": "https://localhost:8080/",
     "height": 370
    },
    "id": "D-1ZuywkqST8",
    "outputId": "bb726906-b9bd-4ed5-c49b-92a1315ef596"
   },
   "outputs": [
    {
     "name": "stderr",
     "output_type": "stream",
     "text": [
      "/Users/slinderman/miniconda3/lib/python3.9/site-packages/probml_utils/plotting.py:26: UserWarning: LATEXIFY environment variable not set, not latexifying\n",
      "  warnings.warn(\"LATEXIFY environment variable not set, not latexifying\")\n"
     ]
    },
    {
     "data": {
      "image/png": "[encoded data removed]",
      "text/plain": [
       "<Figure size 720x360 with 3 Axes>"
      ]
     },
     "metadata": {
      "needs_background": "light"
     },
     "output_type": "display_data"
    }
   ],
   "source": [
    "# Compare the transition matrices\n",
    "compare_transition_matrix(true_hmm.transition_matrix, test_hmm.transition_matrix)"
   ]
  },
  {
   "cell_type": "code",
   "execution_count": 19,
   "metadata": {
    "colab": {
     "base_uri": "https://localhost:8080/",
     "height": 320
    },
    "id": "JmDSt_YvM45i",
    "outputId": "e375a07a-078a-4a29-c6a6-c6994c9ab17a"
   },
   "outputs": [
    {
     "data": {
      "image/png": "[encoded data removed]",
      "text/plain": [
       "<Figure size 1800x360 with 1 Axes>"
      ]
     },
     "metadata": {
      "needs_background": "light"
     },
     "output_type": "display_data"
    }
   ],
   "source": [
    "# Posterior distribution\n",
    "posterior = test_hmm.smoother(data)\n",
    "Ez = posterior.smoothed_probs\n",
    "perm = find_permutation(states, jnp.argmax(Ez, axis=-1))\n",
    "plot_posterior_states(Ez, states, perm)"
   ]
  },
  {
   "cell_type": "markdown",
   "metadata": {
    "id": "tr-rMyCRM45j"
   },
   "source": [
    "# Fit Bernoulli Over Multiple Trials"
   ]
  },
  {
   "cell_type": "code",
   "execution_count": 20,
   "metadata": {
    "id": "bWz4ODsqM45k"
   },
   "outputs": [],
   "source": [
    "rng = jr.PRNGKey(0)\n",
    "num_trials = 5\n",
    "keys = jr.split(rng, num_trials)\n",
    "num_timesteps = 500\n",
    "\n",
    "all_states, all_data = vmap(true_hmm.sample, in_axes=(0, None))(keys, num_timesteps)"
   ]
  },
  {
   "cell_type": "code",
   "execution_count": 21,
   "metadata": {
    "colab": {
     "base_uri": "https://localhost:8080/"
    },
    "id": "1wMbvyTYM45k",
    "outputId": "e4d459fb-ed86-43c6-8f2e-995eb330e4c8"
   },
   "outputs": [
    {
     "name": "stdout",
     "output_type": "stream",
     "text": [
      "(5, 500)\n",
      "(5, 500, 10)\n"
     ]
    }
   ],
   "source": [
    "# Now we have a batch dimension of size `num_trials`\n",
    "print(all_states.shape)\n",
    "print(all_data.shape)"
   ]
  },
  {
   "cell_type": "code",
   "execution_count": 22,
   "metadata": {
    "colab": {
     "base_uri": "https://localhost:8080/",
     "height": 49,
     "referenced_widgets": [
      "43ca685282574b88807417527c8836d2",
      "0c732a9554f94b1ea2b0c21b5ea02961",
      "17b16abc737b40f3bc88e0fbaaa194ca",
      "2ad31d8e7be64991826be8915f297dcc",
      "6dd5f71ff51542de837223c8d6dbbb9c",
      "f667913c1e8d4d89bb239271977811f0",
      "e870a10dcd1043ba9ad6cecfa656253a",
      "57b03daa347c4f638f3e2cbea4e3134d",
      "29fc1701894b45308eb647864f2bb50d",
      "3b5cbad9e01c4c4a826ba0f27cf84b81",
      "19ec3898adb645698110b92c241d60d9"
     ]
    },
    "id": "jo6qXbmjM45l",
    "outputId": "0d51f137-f993-4da0-9cad-525d25263ba0"
   },
   "outputs": [
    {
     "data": {
      "application/vnd.jupyter.widget-view+json": {
       "model_id": "41ce45574225424e8f1cff7c37f13da5",
       "version_major": 2,
       "version_minor": 0
      },
      "text/plain": [
       "  0%|          | 0/100 [00:00<?, ?it/s]"
      ]
     },
     "metadata": {},
     "output_type": "display_data"
    }
   ],
   "source": [
    "num_iters = 100\n",
    "test_hmm, lps, posterior = hmm_fit_em(test_hmm, all_data, num_iters=100)"
   ]
  },
  {
   "cell_type": "code",
   "execution_count": 23,
   "metadata": {
    "colab": {
     "base_uri": "https://localhost:8080/",
     "height": 338
    },
    "id": "mQh9AmrNM45m",
    "outputId": "fb1de2a1-d80e-4ce8-9341-4096e0575cbd"
   },
   "outputs": [
    {
     "data": {
      "text/plain": [
       "[<matplotlib.lines.Line2D at 0x7f7921ef2a60>]"
      ]
     },
     "execution_count": 23,
     "metadata": {},
     "output_type": "execute_result"
    },
    {
     "data": {
      "image/png": "[encoded data removed]",
      "text/plain": [
       "<Figure size 432x288 with 1 Axes>"
      ]
     },
     "metadata": {
      "needs_background": "light"
     },
     "output_type": "display_data"
    }
   ],
   "source": [
    "# plot marginal log probabilities\n",
    "plt.title(\"Marginal Log Probability\")\n",
    "plt.ylabel(\"lp\")\n",
    "plt.xlabel(\"idx\")\n",
    "plt.plot(jnp.array(lps) / data.size)"
   ]
  },
  {
   "cell_type": "code",
   "execution_count": 24,
   "metadata": {
    "colab": {
     "base_uri": "https://localhost:8080/",
     "height": 370
    },
    "id": "k3RrRVHVwMq5",
    "outputId": "613d1a45-dea9-4fd7-8d45-37cc5d8c4345"
   },
   "outputs": [
    {
     "name": "stderr",
     "output_type": "stream",
     "text": [
      "/Users/slinderman/miniconda3/lib/python3.9/site-packages/probml_utils/plotting.py:26: UserWarning: LATEXIFY environment variable not set, not latexifying\n",
      "  warnings.warn(\"LATEXIFY environment variable not set, not latexifying\")\n"
     ]
    },
    {
     "data": {
      "image/png": "[encoded data removed]",
      "text/plain": [
       "<Figure size 720x360 with 3 Axes>"
      ]
     },
     "metadata": {
      "needs_background": "light"
     },
     "output_type": "display_data"
    }
   ],
   "source": [
    "compare_transition_matrix(true_hmm.transition_matrix, test_hmm.transition_matrix)"
   ]
  },
  {
   "cell_type": "code",
   "execution_count": null,
   "metadata": {
    "colab": {
     "base_uri": "https://localhost:8080/",
     "height": 977
    },
    "id": "BpLXGeNVM45n",
    "outputId": "80eaec9e-a885-43e6-ef9d-a3a104acf058"
   },
   "outputs": [
    {
     "name": "stdout",
     "output_type": "stream",
     "text": [
      "===== Trial: 0 =====\n"
     ]
    }
   ],
   "source": [
    "# For the first few trials, let's see how good our predicted states are\n",
    "for trial_idx in range(3):\n",
    "    print(\"=\" * 5, f\"Trial: {trial_idx}\", \"=\" * 5)\n",
    "    posterior = test_hmm.smoother(all_data[trial_idx])\n",
    "    Ez = posterior.smoothed_probs\n",
    "    states = all_states[trial_idx]\n",
    "    perm = find_permutation(states, jnp.argmax(Ez, axis=-1))\n",
    "    plot_posterior_states(Ez, states, perm)"
   ]
  }
 ],
 "metadata": {
  "colab": {
   "collapsed_sections": [],
   "name": "Copy of bernoulli-hmm-example.ipynb",
   "provenance": []
  },
  "interpreter": {
   "hash": "1c9b7abd99f812592e04518a2dddca5f7bc8ca20b74b8ad7e1b8422bf8e8c0a8"
  },
  "kernelspec": {
   "display_name": "Python 3 (ipykernel)",
   "language": "python",
   "name": "python3"
  },
  "language_info": {
   "codemirror_mode": {
    "name": "ipython",
    "version": 3
   },
   "file_extension": ".py",
   "mimetype": "text/x-python",
   "name": "python",
   "nbconvert_exporter": "python",
   "pygments_lexer": "ipython3",
   "version": "3.9.12"
  },
  "widgets": {
   "application/vnd.jupyter.widget-state+json": {
    "05427155afed4068af62112dab17d175": {
     "model_module": "@jupyter-widgets/controls",
     "model_module_version": "1.5.0",
     "model_name": "ProgressStyleModel",
     "state": {
      "_model_module": "@jupyter-widgets/controls",
      "_model_module_version": "1.5.0",
      "_model_name": "ProgressStyleModel",
      "_view_count": null,
      "_view_module": "@jupyter-widgets/base",
      "_view_module_version": "1.2.0",
      "_view_name": "StyleView",
      "bar_color": null,
      "description_width": ""
     }
    },
    "0c732a9554f94b1ea2b0c21b5ea02961": {
     "model_module": "@jupyter-widgets/controls",
     "model_module_version": "1.5.0",
     "model_name": "HTMLModel",
     "state": {
      "_dom_classes": [],
      "_model_module": "@jupyter-widgets/controls",
      "_model_module_version": "1.5.0",
      "_model_name": "HTMLModel",
      "_view_count": null,
      "_view_module": "@jupyter-widgets/controls",
      "_view_module_version": "1.5.0",
      "_view_name": "HTMLView",
      "description": "",
      "description_tooltip": null,
      "layout": "IPY_MODEL_f667913c1e8d4d89bb239271977811f0",
      "placeholder": "​",
      "style": "IPY_MODEL_e870a10dcd1043ba9ad6cecfa656253a",
      "value": "100%"
     }
    },
    "0e57bbc0bb5f4f7a88ff089e3ba3177f": {
     "model_module": "@jupyter-widgets/controls",
     "model_module_version": "1.5.0",
     "model_name": "HTMLModel",
     "state": {
      "_dom_classes": [],
      "_model_module": "@jupyter-widgets/controls",
      "_model_module_version": "1.5.0",
      "_model_name": "HTMLModel",
      "_view_count": null,
      "_view_module": "@jupyter-widgets/controls",
      "_view_module_version": "1.5.0",
      "_view_name": "HTMLView",
      "description": "",
      "description_tooltip": null,
      "layout": "IPY_MODEL_8927208732984d539ccba9186c4b750c",
      "placeholder": "​",
      "style": "IPY_MODEL_ccac12a17a56467ca10c80296b5b4dbd",
      "value": " 20/20 [00:04&lt;00:00, 12.34it/s]"
     }
    },
    "17b16abc737b40f3bc88e0fbaaa194ca": {
     "model_module": "@jupyter-widgets/controls",
     "model_module_version": "1.5.0",
     "model_name": "FloatProgressModel",
     "state": {
      "_dom_classes": [],
      "_model_module": "@jupyter-widgets/controls",
      "_model_module_version": "1.5.0",
      "_model_name": "FloatProgressModel",
      "_view_count": null,
      "_view_module": "@jupyter-widgets/controls",
      "_view_module_version": "1.5.0",
      "_view_name": "ProgressView",
      "bar_style": "success",
      "description": "",
      "description_tooltip": null,
      "layout": "IPY_MODEL_57b03daa347c4f638f3e2cbea4e3134d",
      "max": 100,
      "min": 0,
      "orientation": "horizontal",
      "style": "IPY_MODEL_29fc1701894b45308eb647864f2bb50d",
      "value": 100
     }
    },
    "19ec3898adb645698110b92c241d60d9": {
     "model_module": "@jupyter-widgets/controls",
     "model_module_version": "1.5.0",
     "model_name": "DescriptionStyleModel",
     "state": {
      "_model_module": "@jupyter-widgets/controls",
      "_model_module_version": "1.5.0",
      "_model_name": "DescriptionStyleModel",
      "_view_count": null,
      "_view_module": "@jupyter-widgets/base",
      "_view_module_version": "1.2.0",
      "_view_name": "StyleView",
      "description_width": ""
     }
    },
    "29fc1701894b45308eb647864f2bb50d": {
     "model_module": "@jupyter-widgets/controls",
     "model_module_version": "1.5.0",
     "model_name": "ProgressStyleModel",
     "state": {
      "_model_module": "@jupyter-widgets/controls",
      "_model_module_version": "1.5.0",
      "_model_name": "ProgressStyleModel",
      "_view_count": null,
      "_view_module": "@jupyter-widgets/base",
      "_view_module_version": "1.2.0",
      "_view_name": "StyleView",
      "bar_color": null,
      "description_width": ""
     }
    },
    "2ad31d8e7be64991826be8915f297dcc": {
     "model_module": "@jupyter-widgets/controls",
     "model_module_version": "1.5.0",
     "model_name": "HTMLModel",
     "state": {
      "_dom_classes": [],
      "_model_module": "@jupyter-widgets/controls",
      "_model_module_version": "1.5.0",
      "_model_name": "HTMLModel",
      "_view_count": null,
      "_view_module": "@jupyter-widgets/controls",
      "_view_module_version": "1.5.0",
      "_view_name": "HTMLView",
      "description": "",
      "description_tooltip": null,
      "layout": "IPY_MODEL_3b5cbad9e01c4c4a826ba0f27cf84b81",
      "placeholder": "​",
      "style": "IPY_MODEL_19ec3898adb645698110b92c241d60d9",
      "value": " 100/100 [00:03&lt;00:00, 54.58it/s]"
     }
    },
    "3b5cbad9e01c4c4a826ba0f27cf84b81": {
     "model_module": "@jupyter-widgets/base",
     "model_module_version": "1.2.0",
     "model_name": "LayoutModel",
     "state": {
      "_model_module": "@jupyter-widgets/base",
      "_model_module_version": "1.2.0",
      "_model_name": "LayoutModel",
      "_view_count": null,
      "_view_module": "@jupyter-widgets/base",
      "_view_module_version": "1.2.0",
      "_view_name": "LayoutView",
      "align_content": null,
      "align_items": null,
      "align_self": null,
      "border": null,
      "bottom": null,
      "display": null,
      "flex": null,
      "flex_flow": null,
      "grid_area": null,
      "grid_auto_columns": null,
      "grid_auto_flow": null,
      "grid_auto_rows": null,
      "grid_column": null,
      "grid_gap": null,
      "grid_row": null,
      "grid_template_areas": null,
      "grid_template_columns": null,
      "grid_template_rows": null,
      "height": null,
      "justify_content": null,
      "justify_items": null,
      "left": null,
      "margin": null,
      "max_height": null,
      "max_width": null,
      "min_height": null,
      "min_width": null,
      "object_fit": null,
      "object_position": null,
      "order": null,
      "overflow": null,
      "overflow_x": null,
      "overflow_y": null,
      "padding": null,
      "right": null,
      "top": null,
      "visibility": null,
      "width": null
     }
    },
    "43ca685282574b88807417527c8836d2": {
     "model_module": "@jupyter-widgets/controls",
     "model_module_version": "1.5.0",
     "model_name": "HBoxModel",
     "state": {
      "_dom_classes": [],
      "_model_module": "@jupyter-widgets/controls",
      "_model_module_version": "1.5.0",
      "_model_name": "HBoxModel",
      "_view_count": null,
      "_view_module": "@jupyter-widgets/controls",
      "_view_module_version": "1.5.0",
      "_view_name": "HBoxView",
      "box_style": "",
      "children": [
       "IPY_MODEL_0c732a9554f94b1ea2b0c21b5ea02961",
       "IPY_MODEL_17b16abc737b40f3bc88e0fbaaa194ca",
       "IPY_MODEL_2ad31d8e7be64991826be8915f297dcc"
      ],
      "layout": "IPY_MODEL_6dd5f71ff51542de837223c8d6dbbb9c"
     }
    },
    "57b03daa347c4f638f3e2cbea4e3134d": {
     "model_module": "@jupyter-widgets/base",
     "model_module_version": "1.2.0",
     "model_name": "LayoutModel",
     "state": {
      "_model_module": "@jupyter-widgets/base",
      "_model_module_version": "1.2.0",
      "_model_name": "LayoutModel",
      "_view_count": null,
      "_view_module": "@jupyter-widgets/base",
      "_view_module_version": "1.2.0",
      "_view_name": "LayoutView",
      "align_content": null,
      "align_items": null,
      "align_self": null,
      "border": null,
      "bottom": null,
      "display": null,
      "flex": null,
      "flex_flow": null,
      "grid_area": null,
      "grid_auto_columns": null,
      "grid_auto_flow": null,
      "grid_auto_rows": null,
      "grid_column": null,
      "grid_gap": null,
      "grid_row": null,
      "grid_template_areas": null,
      "grid_template_columns": null,
      "grid_template_rows": null,
      "height": null,
      "justify_content": null,
      "justify_items": null,
      "left": null,
      "margin": null,
      "max_height": null,
      "max_width": null,
      "min_height": null,
      "min_width": null,
      "object_fit": null,
      "object_position": null,
      "order": null,
      "overflow": null,
      "overflow_x": null,
      "overflow_y": null,
      "padding": null,
      "right": null,
      "top": null,
      "visibility": null,
      "width": null
     }
    },
    "5b8cd2b6c8144525ae9f91d761a81d29": {
     "model_module": "@jupyter-widgets/base",
     "model_module_version": "1.2.0",
     "model_name": "LayoutModel",
     "state": {
      "_model_module": "@jupyter-widgets/base",
      "_model_module_version": "1.2.0",
      "_model_name": "LayoutModel",
      "_view_count": null,
      "_view_module": "@jupyter-widgets/base",
      "_view_module_version": "1.2.0",
      "_view_name": "LayoutView",
      "align_content": null,
      "align_items": null,
      "align_self": null,
      "border": null,
      "bottom": null,
      "display": null,
      "flex": null,
      "flex_flow": null,
      "grid_area": null,
      "grid_auto_columns": null,
      "grid_auto_flow": null,
      "grid_auto_rows": null,
      "grid_column": null,
      "grid_gap": null,
      "grid_row": null,
      "grid_template_areas": null,
      "grid_template_columns": null,
      "grid_template_rows": null,
      "height": null,
      "justify_content": null,
      "justify_items": null,
      "left": null,
      "margin": null,
      "max_height": null,
      "max_width": null,
      "min_height": null,
      "min_width": null,
      "object_fit": null,
      "object_position": null,
      "order": null,
      "overflow": null,
      "overflow_x": null,
      "overflow_y": null,
      "padding": null,
      "right": null,
      "top": null,
      "visibility": null,
      "width": null
     }
    },
    "5e091fb6b95349409e25836129e36ceb": {
     "model_module": "@jupyter-widgets/base",
     "model_module_version": "1.2.0",
     "model_name": "LayoutModel",
     "state": {
      "_model_module": "@jupyter-widgets/base",
      "_model_module_version": "1.2.0",
      "_model_name": "LayoutModel",
      "_view_count": null,
      "_view_module": "@jupyter-widgets/base",
      "_view_module_version": "1.2.0",
      "_view_name": "LayoutView",
      "align_content": null,
      "align_items": null,
      "align_self": null,
      "border": null,
      "bottom": null,
      "display": null,
      "flex": null,
      "flex_flow": null,
      "grid_area": null,
      "grid_auto_columns": null,
      "grid_auto_flow": null,
      "grid_auto_rows": null,
      "grid_column": null,
      "grid_gap": null,
      "grid_row": null,
      "grid_template_areas": null,
      "grid_template_columns": null,
      "grid_template_rows": null,
      "height": null,
      "justify_content": null,
      "justify_items": null,
      "left": null,
      "margin": null,
      "max_height": null,
      "max_width": null,
      "min_height": null,
      "min_width": null,
      "object_fit": null,
      "object_position": null,
      "order": null,
      "overflow": null,
      "overflow_x": null,
      "overflow_y": null,
      "padding": null,
      "right": null,
      "top": null,
      "visibility": null,
      "width": null
     }
    },
    "6dd5f71ff51542de837223c8d6dbbb9c": {
     "model_module": "@jupyter-widgets/base",
     "model_module_version": "1.2.0",
     "model_name": "LayoutModel",
     "state": {
      "_model_module": "@jupyter-widgets/base",
      "_model_module_version": "1.2.0",
      "_model_name": "LayoutModel",
      "_view_count": null,
      "_view_module": "@jupyter-widgets/base",
      "_view_module_version": "1.2.0",
      "_view_name": "LayoutView",
      "align_content": null,
      "align_items": null,
      "align_self": null,
      "border": null,
      "bottom": null,
      "display": null,
      "flex": null,
      "flex_flow": null,
      "grid_area": null,
      "grid_auto_columns": null,
      "grid_auto_flow": null,
      "grid_auto_rows": null,
      "grid_column": null,
      "grid_gap": null,
      "grid_row": null,
      "grid_template_areas": null,
      "grid_template_columns": null,
      "grid_template_rows": null,
      "height": null,
      "justify_content": null,
      "justify_items": null,
      "left": null,
      "margin": null,
      "max_height": null,
      "max_width": null,
      "min_height": null,
      "min_width": null,
      "object_fit": null,
      "object_position": null,
      "order": null,
      "overflow": null,
      "overflow_x": null,
      "overflow_y": null,
      "padding": null,
      "right": null,
      "top": null,
      "visibility": null,
      "width": null
     }
    },
    "742c8a837eef477db62cfa019c1e7e38": {
     "model_module": "@jupyter-widgets/controls",
     "model_module_version": "1.5.0",
     "model_name": "HTMLModel",
     "state": {
      "_dom_classes": [],
      "_model_module": "@jupyter-widgets/controls",
      "_model_module_version": "1.5.0",
      "_model_name": "HTMLModel",
      "_view_count": null,
      "_view_module": "@jupyter-widgets/controls",
      "_view_module_version": "1.5.0",
      "_view_name": "HTMLView",
      "description": "",
      "description_tooltip": null,
      "layout": "IPY_MODEL_5e091fb6b95349409e25836129e36ceb",
      "placeholder": "​",
      "style": "IPY_MODEL_97a21de0683348c8b3ded6d5b461dfde",
      "value": "100%"
     }
    },
    "778c754a8c8d4219af4ccb982ae4b566": {
     "model_module": "@jupyter-widgets/controls",
     "model_module_version": "1.5.0",
     "model_name": "FloatProgressModel",
     "state": {
      "_dom_classes": [],
      "_model_module": "@jupyter-widgets/controls",
      "_model_module_version": "1.5.0",
      "_model_name": "FloatProgressModel",
      "_view_count": null,
      "_view_module": "@jupyter-widgets/controls",
      "_view_module_version": "1.5.0",
      "_view_name": "ProgressView",
      "bar_style": "success",
      "description": "",
      "description_tooltip": null,
      "layout": "IPY_MODEL_d95b15e3e9de46fdb9735382b9e8eb77",
      "max": 20,
      "min": 0,
      "orientation": "horizontal",
      "style": "IPY_MODEL_05427155afed4068af62112dab17d175",
      "value": 20
     }
    },
    "8927208732984d539ccba9186c4b750c": {
     "model_module": "@jupyter-widgets/base",
     "model_module_version": "1.2.0",
     "model_name": "LayoutModel",
     "state": {
      "_model_module": "@jupyter-widgets/base",
      "_model_module_version": "1.2.0",
      "_model_name": "LayoutModel",
      "_view_count": null,
      "_view_module": "@jupyter-widgets/base",
      "_view_module_version": "1.2.0",
      "_view_name": "LayoutView",
      "align_content": null,
      "align_items": null,
      "align_self": null,
      "border": null,
      "bottom": null,
      "display": null,
      "flex": null,
      "flex_flow": null,
      "grid_area": null,
      "grid_auto_columns": null,
      "grid_auto_flow": null,
      "grid_auto_rows": null,
      "grid_column": null,
      "grid_gap": null,
      "grid_row": null,
      "grid_template_areas": null,
      "grid_template_columns": null,
      "grid_template_rows": null,
      "height": null,
      "justify_content": null,
      "justify_items": null,
      "left": null,
      "margin": null,
      "max_height": null,
      "max_width": null,
      "min_height": null,
      "min_width": null,
      "object_fit": null,
      "object_position": null,
      "order": null,
      "overflow": null,
      "overflow_x": null,
      "overflow_y": null,
      "padding": null,
      "right": null,
      "top": null,
      "visibility": null,
      "width": null
     }
    },
    "91c8e1caf9f84f72bb9bc74758a1ae64": {
     "model_module": "@jupyter-widgets/controls",
     "model_module_version": "1.5.0",
     "model_name": "HBoxModel",
     "state": {
      "_dom_classes": [],
      "_model_module": "@jupyter-widgets/controls",
      "_model_module_version": "1.5.0",
      "_model_name": "HBoxModel",
      "_view_count": null,
      "_view_module": "@jupyter-widgets/controls",
      "_view_module_version": "1.5.0",
      "_view_name": "HBoxView",
      "box_style": "",
      "children": [
       "IPY_MODEL_742c8a837eef477db62cfa019c1e7e38",
       "IPY_MODEL_778c754a8c8d4219af4ccb982ae4b566",
       "IPY_MODEL_0e57bbc0bb5f4f7a88ff089e3ba3177f"
      ],
      "layout": "IPY_MODEL_5b8cd2b6c8144525ae9f91d761a81d29"
     }
    },
    "97a21de0683348c8b3ded6d5b461dfde": {
     "model_module": "@jupyter-widgets/controls",
     "model_module_version": "1.5.0",
     "model_name": "DescriptionStyleModel",
     "state": {
      "_model_module": "@jupyter-widgets/controls",
      "_model_module_version": "1.5.0",
      "_model_name": "DescriptionStyleModel",
      "_view_count": null,
      "_view_module": "@jupyter-widgets/base",
      "_view_module_version": "1.2.0",
      "_view_name": "StyleView",
      "description_width": ""
     }
    },
    "ccac12a17a56467ca10c80296b5b4dbd": {
     "model_module": "@jupyter-widgets/controls",
     "model_module_version": "1.5.0",
     "model_name": "DescriptionStyleModel",
     "state": {
      "_model_module": "@jupyter-widgets/controls",
      "_model_module_version": "1.5.0",
      "_model_name": "DescriptionStyleModel",
      "_view_count": null,
      "_view_module": "@jupyter-widgets/base",
      "_view_module_version": "1.2.0",
      "_view_name": "StyleView",
      "description_width": ""
     }
    },
    "d95b15e3e9de46fdb9735382b9e8eb77": {
     "model_module": "@jupyter-widgets/base",
     "model_module_version": "1.2.0",
     "model_name": "LayoutModel",
     "state": {
      "_model_module": "@jupyter-widgets/base",
      "_model_module_version": "1.2.0",
      "_model_name": "LayoutModel",
      "_view_count": null,
      "_view_module": "@jupyter-widgets/base",
      "_view_module_version": "1.2.0",
      "_view_name": "LayoutView",
      "align_content": null,
      "align_items": null,
      "align_self": null,
      "border": null,
      "bottom": null,
      "display": null,
      "flex": null,
      "flex_flow": null,
      "grid_area": null,
      "grid_auto_columns": null,
      "grid_auto_flow": null,
      "grid_auto_rows": null,
      "grid_column": null,
      "grid_gap": null,
      "grid_row": null,
      "grid_template_areas": null,
      "grid_template_columns": null,
      "grid_template_rows": null,
      "height": null,
      "justify_content": null,
      "justify_items": null,
      "left": null,
      "margin": null,
      "max_height": null,
      "max_width": null,
      "min_height": null,
      "min_width": null,
      "object_fit": null,
      "object_position": null,
      "order": null,
      "overflow": null,
      "overflow_x": null,
      "overflow_y": null,
      "padding": null,
      "right": null,
      "top": null,
      "visibility": null,
      "width": null
     }
    },
    "e870a10dcd1043ba9ad6cecfa656253a": {
     "model_module": "@jupyter-widgets/controls",
     "model_module_version": "1.5.0",
     "model_name": "DescriptionStyleModel",
     "state": {
      "_model_module": "@jupyter-widgets/controls",
      "_model_module_version": "1.5.0",
      "_model_name": "DescriptionStyleModel",
      "_view_count": null,
      "_view_module": "@jupyter-widgets/base",
      "_view_module_version": "1.2.0",
      "_view_name": "StyleView",
      "description_width": ""
     }
    },
    "f667913c1e8d4d89bb239271977811f0": {
     "model_module": "@jupyter-widgets/base",
     "model_module_version": "1.2.0",
     "model_name": "LayoutModel",
     "state": {
      "_model_module": "@jupyter-widgets/base",
      "_model_module_version": "1.2.0",
      "_model_name": "LayoutModel",
      "_view_count": null,
      "_view_module": "@jupyter-widgets/base",
      "_view_module_version": "1.2.0",
      "_view_name": "LayoutView",
      "align_content": null,
      "align_items": null,
      "align_self": null,
      "border": null,
      "bottom": null,
      "display": null,
      "flex": null,
      "flex_flow": null,
      "grid_area": null,
      "grid_auto_columns": null,
      "grid_auto_flow": null,
      "grid_auto_rows": null,
      "grid_column": null,
      "grid_gap": null,
      "grid_row": null,
      "grid_template_areas": null,
      "grid_template_columns": null,
      "grid_template_rows": null,
      "height": null,
      "justify_content": null,
      "justify_items": null,
      "left": null,
      "margin": null,
      "max_height": null,
      "max_width": null,
      "min_height": null,
      "min_width": null,
      "object_fit": null,
      "object_position": null,
      "order": null,
      "overflow": null,
      "overflow_x": null,
      "overflow_y": null,
      "padding": null,
      "right": null,
      "top": null,
      "visibility": null,
      "width": null
     }
    }
   }
  }
 },
 "nbformat": 4,
 "nbformat_minor": 1
}
