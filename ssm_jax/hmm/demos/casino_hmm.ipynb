{
 "cells": [
  {
   "cell_type": "markdown",
   "metadata": {
    "colab_type": "text",
    "id": "view-in-github"
   },
   "source": [
    "<a href=\"https://colab.research.google.com/github/probml/ssm-jax/blob/main/ssm_jax/hmm/demos/casino_hmm.ipynb\" target=\"_parent\"><img src=\"https://colab.research.google.com/assets/colab-badge.svg\" alt=\"Open In Colab\"/></a>"
   ]
  },
  {
   "cell_type": "markdown",
   "metadata": {
    "id": "qD36Y2Cmr199"
   },
   "source": [
    "# \"Occasionally dishonest Casino\" HMM\n",
    "\n",
    "Based on https://github.com/probml/JSL/blob/main/jsl/demos/hmm_casino.py\n"
   ]
  },
  {
   "cell_type": "markdown",
   "metadata": {
    "id": "UmWTtNMBryhu"
   },
   "source": [
    "# Setup"
   ]
  },
  {
   "cell_type": "code",
   "execution_count": 1,
   "metadata": {
    "colab": {
     "base_uri": "https://localhost:8080/"
    },
    "id": "5qG2BlnEq_48",
    "outputId": "73222dee-0936-4b17-af87-ad3b35219fc6"
   },
   "outputs": [],
   "source": [
    "try:\n",
    "    import optax\n",
    "except ModuleNotFoundError:\n",
    "    %pip install -qq optax\n",
    "    import optax"
   ]
  },
  {
   "cell_type": "code",
   "execution_count": 2,
   "metadata": {
    "colab": {
     "base_uri": "https://localhost:8080/"
    },
    "id": "QKdBO90jrNLy",
    "outputId": "3e7062dd-f1e1-44db-e23f-dfe9bb268aa7"
   },
   "outputs": [],
   "source": [
    "try:\n",
    "    import ssm_jax\n",
    "except ModuleNotFoundError:\n",
    "    %pip install -qq git+https://github.com/probml/ssm-jax.git\n",
    "    import ssm_jax "
   ]
  },
  {
   "cell_type": "code",
   "execution_count": 3,
   "metadata": {
    "id": "GfixrzqirQGi"
   },
   "outputs": [],
   "source": [
    "import jax.numpy as jnp\n",
    "import jax.random as jr\n",
    "from jax import jit, value_and_grad\n",
    "\n",
    "import matplotlib.pyplot as plt\n",
    "import numpy as np\n",
    "\n",
    "from ssm_jax.hmm.models import CategoricalHMM\n",
    "import ssm_jax.hmm.learning as learning\n",
    "import ssm_jax.misc.plot_utils as plot_utils"
   ]
  },
  {
   "cell_type": "code",
   "execution_count": 4,
   "metadata": {
    "id": "blRati1RrShq"
   },
   "outputs": [],
   "source": [
    "# Silence WARNING:root:The use of `check_types` is deprecated and does not have any effect.\n",
    "# https://github.com/tensorflow/probability/issues/1523\n",
    "import logging\n",
    "logger = logging.getLogger() \n",
    "\n",
    "class CheckTypesFilter(logging.Filter):\n",
    "    def filter(self, record):\n",
    "        return \"check_types\" not in record.getMessage()\n",
    "\n",
    "\n",
    "logger.addFilter(CheckTypesFilter())"
   ]
  },
  {
   "cell_type": "markdown",
   "metadata": {
    "id": "7jVjHlh9tkFi"
   },
   "source": [
    "# Model"
   ]
  },
  {
   "cell_type": "code",
   "execution_count": 5,
   "metadata": {
    "colab": {
     "base_uri": "https://localhost:8080/"
    },
    "id": "4FZ1u__Wrx1D",
    "outputId": "753c30dc-af64-4cdf-b095-10ec3be4640f"
   },
   "outputs": [
    {
     "name": "stderr",
     "output_type": "stream",
     "text": [
      "WARNING:absl:No GPU/TPU found, falling back to CPU. (Set TF_CPP_MIN_LOG_LEVEL=0 and rerun for more info.)\n"
     ]
    }
   ],
   "source": [
    "transition_matrix = jnp.array([\n",
    "    [0.95, 0.05],\n",
    "    [0.10, 0.90]\n",
    "])\n",
    "\n",
    "emission_probs = jnp.array([\n",
    "    [1/6,  1/6,  1/6,  1/6,  1/6,  1/6],  # fair die\n",
    "    [1/10, 1/10, 1/10, 1/10, 1/10, 5/10]  # loaded die\n",
    "])\n",
    "\n",
    "init_state_probs = jnp.array([1/2, 1/2])\n",
    "\n",
    "hmm = CategoricalHMM(init_state_probs, transition_matrix, emission_probs)"
   ]
  },
  {
   "cell_type": "markdown",
   "metadata": {
    "id": "bCzU1eo2IBP5"
   },
   "source": [
    "# Generate samples"
   ]
  },
  {
   "cell_type": "code",
   "execution_count": 6,
   "metadata": {
    "colab": {
     "base_uri": "https://localhost:8080/"
    },
    "id": "LkoYDzcYIHnR",
    "outputId": "46feddfb-982e-4b22-9c4b-577d365cbb67"
   },
   "outputs": [
    {
     "name": "stdout",
     "output_type": "stream",
     "text": [
      "Printing sample observed/latent...\n",
      "obs:  111111111122221111111111111111111111222222222122221111111111\n",
      "hid:  135553452655336631635155152623211211346222126326426542234464\n"
     ]
    }
   ],
   "source": [
    "n_timesteps = 300\n",
    "true_states, emissions = hmm.sample(jr.PRNGKey(0), n_timesteps)\n",
    "\n",
    "print(\"Printing sample observed/latent...\")\n",
    "to_string = lambda x: \"\".join((np.array(x) + 1).astype(str))[:60]\n",
    "print(\"obs: \", to_string(true_states)[:60])\n",
    "print(\"hid: \", to_string(emissions)[:60])"
   ]
  },
  {
   "cell_type": "markdown",
   "metadata": {
    "id": "6PT5GwLlKVEK"
   },
   "source": [
    "# Inference"
   ]
  },
  {
   "cell_type": "code",
   "execution_count": 7,
   "metadata": {
    "colab": {
     "base_uri": "https://localhost:8080/",
     "height": 1000
    },
    "id": "Q9Ai6aR4KWKU",
    "outputId": "c6658ac1-eda9-41ae-9089-190629e1351e"
   },
   "outputs": [
    {
     "name": "stdout",
     "output_type": "stream",
     "text": [
      "Log likelihood:  -523.9222\n"
     ]
    }
   ],
   "source": [
    "posterior = hmm.smoother(emissions)\n",
    "print(\"Log likelihood: \", posterior.marginal_log_lkhd)"
   ]
  },
  {
   "cell_type": "code",
   "execution_count": 8,
   "metadata": {
    "id": "HKCagEcNSa6N"
   },
   "outputs": [
    {
     "name": "stdout",
     "output_type": "stream",
     "text": [
      "most likely states: 111111111111111111111111111111111111111111111111111111111111\n"
     ]
    }
   ],
   "source": [
    "most_likely_states = hmm.most_likely_states(emissions)\n",
    "print(\"most likely states:\", to_string(most_likely_states)[:60])"
   ]
  },
  {
   "cell_type": "markdown",
   "metadata": {
    "id": "9eUgWFEdRDRM"
   },
   "source": [
    "# Plot results"
   ]
  },
  {
   "cell_type": "code",
   "execution_count": 9,
   "metadata": {
    "id": "36BCJhY9RD3f"
   },
   "outputs": [],
   "source": [
    "def find_dishonest_intervals(states):\n",
    "    \"\"\"\n",
    "    Find the span of timesteps that the\n",
    "    simulated systems turns to be in state 1\n",
    "    Parameters\n",
    "    ----------\n",
    "    states: array(n_timesteps)\n",
    "        Result of running the system with two\n",
    "        latent states\n",
    "    Returns\n",
    "    -------\n",
    "    list of tuples with span of values\n",
    "    \"\"\"\n",
    "    states = np.array(states)\n",
    "    changepoints = np.concatenate(\n",
    "        [[0], np.nonzero(np.diff(states))[0] + 1, [len(states)]])\n",
    "    starts, ends = changepoints[:-1], changepoints[1:]\n",
    "    \n",
    "    # Return the (start, end) pairs where the start state is 1\n",
    "    dishonest = states[starts] == 1\n",
    "    return list(zip(starts[dishonest], ends[dishonest]))"
   ]
  },
  {
   "cell_type": "code",
   "execution_count": 10,
   "metadata": {
    "id": "KpTyN5f4RHbk"
   },
   "outputs": [],
   "source": [
    "def plot_inference(inference_values, states, ax, state=1, map_estimate=False):\n",
    "    \"\"\"\n",
    "    Plot the estimated smoothing/filtering/map of a sequence of hidden states.\n",
    "    \"Vertical gray bars denote times when the hidden\n",
    "    state corresponded to state 1. Blue lines represent the\n",
    "    posterior probability of being in that state given diﬀerent subsets\n",
    "    of observed data.\" See Markov and Hidden Markov models section for more info\n",
    "    Parameters\n",
    "    ----------\n",
    "    inference_values: array(n_timesteps, state_size)\n",
    "        Result of running smoothing method\n",
    "    states: array(n_timesteps)\n",
    "        Latent simulation\n",
    "    ax: matplotlib.axes\n",
    "    state: int\n",
    "        Decide which state to highlight\n",
    "    map_estimate: bool\n",
    "        Whether to plot steps (simple plot if False)\n",
    "    \"\"\"\n",
    "    n_timesteps = len(inference_values)\n",
    "    xspan = np.arange(1, n_timesteps + 1)\n",
    "    spans = find_dishonest_intervals(states)\n",
    "    if map_estimate:\n",
    "        ax.step(xspan, inference_values, where=\"post\")\n",
    "    else:\n",
    "        ax.plot(xspan, inference_values[:, state])\n",
    "\n",
    "    for span in spans:\n",
    "        ax.axvspan(*span, alpha=0.5, facecolor=\"tab:gray\", edgecolor=\"none\")\n",
    "    ax.set_xlim(1, n_timesteps)\n",
    "    # ax.set_ylim(0, 1)\n",
    "    ax.set_ylim(-0.1, 1.1)\n",
    "    ax.set_xlabel(\"Observation number\")"
   ]
  },
  {
   "cell_type": "code",
   "execution_count": 11,
   "metadata": {
    "id": "uy1rSVEsRMEa"
   },
   "outputs": [
    {
     "data": {
      "image/png": "[encoded data removed]",
      "text/plain": [
       "<Figure size 432x288 with 1 Axes>"
      ]
     },
     "metadata": {
      "needs_background": "light"
     },
     "output_type": "display_data"
    },
    {
     "data": {
      "image/png": "[encoded data removed]",
      "text/plain": [
       "<Figure size 432x288 with 1 Axes>"
      ]
     },
     "metadata": {
      "needs_background": "light"
     },
     "output_type": "display_data"
    },
    {
     "data": {
      "image/png": "[encoded data removed]",
      "text/plain": [
       "<Figure size 432x288 with 1 Axes>"
      ]
     },
     "metadata": {
      "needs_background": "light"
     },
     "output_type": "display_data"
    }
   ],
   "source": [
    "dict_figures = {}\n",
    "\n",
    "# Plot results\n",
    "fig, ax = plt.subplots()\n",
    "plot_inference(posterior.filtered_probs, true_states, ax)\n",
    "ax.set_ylabel(\"p(loaded)\")\n",
    "ax.set_title(\"Filtered\")\n",
    "dict_figures[\"hmm_casino_filter\"] = fig\n",
    "\n",
    "fig, ax = plt.subplots()\n",
    "plot_inference(posterior.smoothed_probs, true_states, ax)\n",
    "ax.set_ylabel(\"p(loaded)\")\n",
    "ax.set_title(\"Smoothed\")\n",
    "dict_figures[\"hmm_casino_smooth\"] = fig\n",
    "\n",
    "fig, ax = plt.subplots()\n",
    "plot_inference(most_likely_states, true_states, ax, map_estimate=True)\n",
    "ax.set_ylabel(\"MAP state\")\n",
    "ax.set_title(\"Viterbi\")\n",
    "dict_figures[\"hmm_casino_map\"] = fig\n",
    "\n",
    "plt.show()"
   ]
  },
  {
   "cell_type": "markdown",
   "metadata": {
    "id": "1PP4a2_3VVjE"
   },
   "source": [
    "# Draw model"
   ]
  },
  {
   "cell_type": "code",
   "execution_count": 12,
   "metadata": {
    "id": "11ckBgwjVWIU"
   },
   "outputs": [],
   "source": [
    "def savedotfile(dotfiles):\n",
    "  if \"FIGDIR\" in os.environ:\n",
    "      figdir = os.environ[\"FIGDIR\"]\n",
    "      for name, dot in dotfiles.items():\n",
    "          fname_full = os.path.join(figdir, name)\n",
    "          dot.render(fname_full)\n",
    "          print(f\"saving dot file to {fname_full}\")\n",
    "\n"
   ]
  }
 ],
 "metadata": {
  "colab": {
   "authorship_tag": "ABX9TyP3hrf4DyHZyKLC8/gpXO4Z",
   "collapsed_sections": [],
   "include_colab_link": true,
   "name": "casino_hmm.ipynb",
   "provenance": [],
   "toc_visible": true
  },
  "kernelspec": {
   "display_name": "Python 3 (ipykernel)",
   "language": "python",
   "name": "python3"
  },
  "language_info": {
   "codemirror_mode": {
    "name": "ipython",
    "version": 3
   },
   "file_extension": ".py",
   "mimetype": "text/x-python",
   "name": "python",
   "nbconvert_exporter": "python",
   "pygments_lexer": "ipython3",
   "version": "3.9.6"
  }
 },
 "nbformat": 4,
 "nbformat_minor": 4
}
