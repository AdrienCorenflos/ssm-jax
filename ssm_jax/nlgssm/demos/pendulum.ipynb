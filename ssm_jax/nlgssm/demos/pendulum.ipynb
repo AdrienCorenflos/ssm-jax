{
  "cells": [
    {
      "cell_type": "markdown",
      "metadata": {
        "id": "view-in-github",
        "colab_type": "text"
      },
      "source": [
        "<a href=\"https://colab.research.google.com/github/petergchang/ssm-jax/blob/main/ssm_jax/nlgssm/demos/pendulum.ipynb\" target=\"_parent\"><img src=\"https://colab.research.google.com/assets/colab-badge.svg\" alt=\"Open In Colab\"/></a>"
      ]
    },
    {
      "cell_type": "markdown",
      "metadata": {
        "id": "4j2SH7ks97hb"
      },
      "source": [
        "# 2D Pendulum Tracking Example for NLGSSM"
      ]
    },
    {
      "cell_type": "markdown",
      "metadata": {
        "id": "AYrePRtV4RIK"
      },
      "source": [
        "This notebook demonstrates a simple 2d pendulum tracking example for EKF, UKF, SLF, and PF.\n",
        "\n",
        "Simo Särkkä (2013), “Bayesian Filtering and Smoothing,” Cambridge University Press. Available: https://users.aalto.fi/~ssarkka/pub/cup_book_online_20131111.pdf\n",
        "\n",
        "This JAX translation is by Peter G. Chang ([@petergchang](https://github.com/petergchang)) and taken from the [särkkä-jax](https://github.com/petergchang/sarkka-jax) repo.\n",
        "\n"
      ]
    },
    {
      "cell_type": "markdown",
      "metadata": {
        "id": "vLt4p8Tx4hWN"
      },
      "source": [
        "## 0. Imports and Formatting"
      ]
    },
    {
      "cell_type": "code",
      "execution_count": 1,
      "metadata": {
        "colab": {
          "base_uri": "https://localhost:8080/"
        },
        "id": "djYX5weABagr",
        "outputId": "6ec094fd-5995-4e79-b7a7-55b7a0eb3c58"
      },
      "outputs": [
        {
          "output_type": "stream",
          "name": "stdout",
          "text": [
            "Cloning into 'ssm-jax'...\n",
            "remote: Enumerating objects: 716, done.\u001b[K\n",
            "remote: Counting objects: 100% (177/177), done.\u001b[K\n",
            "remote: Compressing objects: 100% (139/139), done.\u001b[K\n",
            "remote: Total 716 (delta 84), reused 81 (delta 36), pack-reused 539\u001b[K\n",
            "Receiving objects: 100% (716/716), 2.65 MiB | 18.43 MiB/s, done.\n",
            "Resolving deltas: 100% (412/412), done.\n",
            "/content/ssm-jax\n",
            "Looking in indexes: https://pypi.org/simple, https://us-python.pkg.dev/colab-wheels/public/simple/\n",
            "Obtaining file:///content/ssm-jax\n",
            "Requirement already satisfied: jax in /usr/local/lib/python3.7/dist-packages (from ssm-jax==0.1) (0.3.8)\n",
            "Requirement already satisfied: jaxlib in /usr/local/lib/python3.7/dist-packages (from ssm-jax==0.1) (0.3.7+cuda11.cudnn805)\n",
            "Collecting optax\n",
            "  Downloading optax-0.1.2-py3-none-any.whl (140 kB)\n",
            "\u001b[K     |████████████████████████████████| 140 kB 11.9 MB/s \n",
            "\u001b[?25hCollecting chex\n",
            "  Downloading chex-0.1.3-py3-none-any.whl (72 kB)\n",
            "\u001b[K     |████████████████████████████████| 72 kB 275 kB/s \n",
            "\u001b[?25hCollecting distrax\n",
            "  Downloading distrax-0.1.2-py3-none-any.whl (272 kB)\n",
            "\u001b[K     |████████████████████████████████| 272 kB 41.2 MB/s \n",
            "\u001b[?25hRequirement already satisfied: tensorflow_probability in /usr/local/lib/python3.7/dist-packages (from ssm-jax==0.1) (0.16.0)\n",
            "Requirement already satisfied: dm-tree>=0.1.5 in /usr/local/lib/python3.7/dist-packages (from chex->ssm-jax==0.1) (0.1.7)\n",
            "Requirement already satisfied: toolz>=0.9.0 in /usr/local/lib/python3.7/dist-packages (from chex->ssm-jax==0.1) (0.11.2)\n",
            "Requirement already satisfied: absl-py>=0.9.0 in /usr/local/lib/python3.7/dist-packages (from chex->ssm-jax==0.1) (1.1.0)\n",
            "Requirement already satisfied: numpy>=1.18.0 in /usr/local/lib/python3.7/dist-packages (from chex->ssm-jax==0.1) (1.21.6)\n",
            "Requirement already satisfied: typing-extensions in /usr/local/lib/python3.7/dist-packages (from jax->ssm-jax==0.1) (4.1.1)\n",
            "Requirement already satisfied: opt-einsum in /usr/local/lib/python3.7/dist-packages (from jax->ssm-jax==0.1) (3.3.0)\n",
            "Requirement already satisfied: scipy>=1.2.1 in /usr/local/lib/python3.7/dist-packages (from jax->ssm-jax==0.1) (1.4.1)\n",
            "Requirement already satisfied: flatbuffers<3.0,>=1.12 in /usr/local/lib/python3.7/dist-packages (from jaxlib->ssm-jax==0.1) (2.0)\n",
            "Requirement already satisfied: decorator in /usr/local/lib/python3.7/dist-packages (from tensorflow_probability->ssm-jax==0.1) (4.4.2)\n",
            "Requirement already satisfied: six>=1.10.0 in /usr/local/lib/python3.7/dist-packages (from tensorflow_probability->ssm-jax==0.1) (1.15.0)\n",
            "Requirement already satisfied: gast>=0.3.2 in /usr/local/lib/python3.7/dist-packages (from tensorflow_probability->ssm-jax==0.1) (0.5.3)\n",
            "Requirement already satisfied: cloudpickle>=1.3 in /usr/local/lib/python3.7/dist-packages (from tensorflow_probability->ssm-jax==0.1) (1.3.0)\n",
            "Installing collected packages: chex, optax, distrax, ssm-jax\n",
            "  Running setup.py develop for ssm-jax\n",
            "Successfully installed chex-0.1.3 distrax-0.1.2 optax-0.1.2 ssm-jax-0.1\n",
            "/content/ssm-jax/ssm_jax/nlgssm\n"
          ]
        }
      ],
      "source": [
        "# TODO: Change to https://github.com/probml/ssm-jax.git after PR merged\n",
        "!git clone https://github.com/petergchang/ssm-jax.git\n",
        "%cd ssm-jax\n",
        "!pip install -e .\n",
        "%cd ssm_jax/nlgssm"
      ]
    },
    {
      "cell_type": "code",
      "execution_count": 5,
      "metadata": {
        "id": "U4xUpwZM3-z5"
      },
      "outputs": [],
      "source": [
        "%matplotlib inline\n",
        "import matplotlib.pyplot as plt\n",
        "\n",
        "import chex\n",
        "import jax\n",
        "import jax.numpy as jnp\n",
        "import jax.random as jr\n",
        "from jax import vmap\n",
        "from jax import lax\n",
        "from jax import jacfwd\n",
        "from typing import Callable\n",
        "\n",
        "import extended_inference as extended"
      ]
    },
    {
      "cell_type": "code",
      "execution_count": 3,
      "metadata": {
        "id": "Lh8pVrU6oNsW"
      },
      "outputs": [],
      "source": [
        "# For pretty print of ndarrays\n",
        "jnp.set_printoptions(formatter={'float_kind':\"{:.2f}\".format})"
      ]
    },
    {
      "cell_type": "markdown",
      "metadata": {
        "id": "33ISOI7QtWlP"
      },
      "source": [
        "## 1. Simulation and Plotting"
      ]
    },
    {
      "cell_type": "markdown",
      "metadata": {
        "id": "BLuO9E_etVp-"
      },
      "source": [
        "We simulate the pendulum data using the following transition model:\n",
        "\\begin{align*}\n",
        "  \\begin{pmatrix} x_{1,k} \\\\ x_{2,k} \\end{pmatrix} &= \n",
        "  \\begin{pmatrix} x_{1,k-1} + x_{2,k-1} \\Delta t \\\\\n",
        "    x_{2,k-1} - g \\sin(x_{1,k-1}) \\Delta t\n",
        "  \\end{pmatrix} + q_{k-1} \\\\\n",
        "  y_{k} &= \\sin(x_{1,k}) + r_k \\\\\n",
        "  y_{x_k} &= \\arcsin(y_k) = \\arcsin(\\sin(x_{1,k}) + r_k)\n",
        "\\end{align*}"
      ]
    },
    {
      "cell_type": "code",
      "source": [
        "# Some parameters\n",
        "dt = 0.0125\n",
        "g = 9.8\n",
        "q_c = 1\n",
        "\n",
        "# Lightweight container for pendulum parameters\n",
        "@chex.dataclass\n",
        "class PendulumParams:\n",
        "    # Lightweight container for pendulum simulation parameters.\n",
        "    initial_state: chex.Array = jnp.array([jnp.pi/2, 0])\n",
        "    dynamics_function: Callable = lambda x: jnp.array([x[0] + x[1]*dt, \n",
        "                                                       x[1] - g*jnp.sin(x[0])*dt])\n",
        "    dynamics_covariance: chex.Array = jnp.array([[q_c*dt**3/3, q_c*dt**2/2],\n",
        "                                                 [q_c*dt**2/2,      q_c*dt]])\n",
        "    emission_function: Callable = lambda x: jnp.array([jnp.sin(x[0])])\n",
        "    emission_covariance: chex.Array = jnp.eye(1) * 0.1"
      ],
      "metadata": {
        "id": "cZftka6dazaA"
      },
      "execution_count": 34,
      "outputs": []
    },
    {
      "cell_type": "code",
      "execution_count": 35,
      "metadata": {
        "id": "GTcJutobtduz"
      },
      "outputs": [],
      "source": [
        "# Pendulum simulation (Särkkä Example 3.7)\n",
        "def simulate_pendulum(params=PendulumParams(), key=0, num_steps=400):\n",
        "    if isinstance(key, int):\n",
        "        key = jr.PRNGKey(key)\n",
        "    # Unpack parameters\n",
        "    M, N = params.initial_state.shape[0], params.emission_covariance.shape[0]\n",
        "    f, h = params.dynamics_function, params.emission_function\n",
        "    Q, R = params.dynamics_covariance, params.emission_covariance\n",
        "\n",
        "    def _step(carry, rng):\n",
        "        state = carry\n",
        "        rng1, rng2 = jr.split(rng, 2)\n",
        "\n",
        "        next_state = f(state) + jr.multivariate_normal(rng1, jnp.zeros(M), Q)\n",
        "        obs = h(next_state) + jr.multivariate_normal(rng2, jnp.zeros(N), R)\n",
        "        return next_state, (next_state, obs)\n",
        "\n",
        "    rngs = jr.split(key, num_steps)\n",
        "    _, (states, observations) = lax.scan(\n",
        "        _step, params.initial_state, rngs\n",
        "    )\n",
        "    return states, observations\n",
        "\n",
        "states, obs = simulate_pendulum()"
      ]
    },
    {
      "cell_type": "code",
      "source": [
        "# Helper function for plotting\n",
        "def plot_pendulum(time_grid, x_tr, x_obs, x_est=None, est_type=\"\"):\n",
        "    plt.figure()\n",
        "    plt.plot(time_grid, x_tr, color='darkgray', linewidth=4, label=\"True Angle\")\n",
        "    plt.plot(time_grid, x_obs, 'ok', fillstyle='none', ms=1.5, label='Measurements')\n",
        "    if x_est is not None:\n",
        "        plt.plot(time_grid, x_est, color='k', linewidth=1.5, label=f\"{est_type} Estimate\")\n",
        "    plt.xlabel('Time $t$'); plt.ylabel('Pendulum angle $x_{1,k}$')\n",
        "    plt.xlim(0, 5); plt.ylim(-3, 5)\n",
        "    plt.xticks(jnp.arange(0.5, 4.6, 0.5))\n",
        "    plt.yticks(jnp.arange(-3, 5.1, 1))\n",
        "    plt.gca().set_aspect(0.5)\n",
        "    plt.legend(loc=1, borderpad=0.5, handlelength=4, fancybox=False, edgecolor='k');\n",
        "    plt.show()"
      ],
      "metadata": {
        "id": "4-sZDJ0odC8d"
      },
      "execution_count": 36,
      "outputs": []
    },
    {
      "cell_type": "code",
      "execution_count": 37,
      "metadata": {
        "colab": {
          "base_uri": "https://localhost:8080/",
          "height": 285
        },
        "id": "QTTt7NKfwPwR",
        "outputId": "87eede73-c75b-42c1-c610-23dd5a8327e5"
      },
      "outputs": [
        {
          "output_type": "display_data",
          "data": {
            "text/plain": [
              "<Figure size 432x288 with 1 Axes>"
            ],
            "image/png": "[encoded data removed]"
          },
          "metadata": {
            "needs_background": "light"
          }
        }
      ],
      "source": [
        "# Create time grid for plotting\n",
        "time_grid = jnp.arange(0.0, 5.0, step=dt)\n",
        "\n",
        "# Plot the generated data\n",
        "plot_pendulum(time_grid, states[:,0], obs)"
      ]
    },
    {
      "cell_type": "markdown",
      "source": [
        "## 2. Simulation and Plotting"
      ],
      "metadata": {
        "id": "5Rx9XE5Af2sP"
      }
    },
    {
      "cell_type": "markdown",
      "metadata": {
        "id": "UEL6BN2jUGrD"
      },
      "source": [
        "Next, we use a first-order EKF to estimate the angle of pendulum from the noisy measurements."
      ]
    },
    {
      "cell_type": "code",
      "execution_count": null,
      "metadata": {
        "id": "uxwlrTUmw8vN"
      },
      "outputs": [],
      "source": [
        "# First order additive EKF (Algorithm 5.4)\n",
        "def ekf_firstorder_additive(m_0, P_0, f, h, Q, R, Y):\n",
        "    num_timesteps = len(Y)\n",
        "    # Compute Jacobians\n",
        "    F, H = jacfwd(f), jacfwd(h)\n",
        "\n",
        "    def _step(carry, t):\n",
        "        m_k, P_k = carry\n",
        "\n",
        "        # Prediction step\n",
        "        m_pred = f(m_k)\n",
        "        P_pred = F(m_k) @ P_k @ F(m_k).T + Q\n",
        "\n",
        "        # Update\n",
        "        v = Y[t] - h(m_pred)\n",
        "        S = jnp.atleast_2d(H(m_pred) @ P_pred @ H(m_pred).T + R)\n",
        "        K = P_pred @ H(m_pred).T @ jnp.linalg.inv(S)\n",
        "        m_post = m_pred + K @ v\n",
        "        P_post = P_pred - K @ S @ K.T\n",
        "        return (m_post, P_post), (m_post, P_post)\n",
        "    \n",
        "    carry = (m_0, P_0)\n",
        "    _, (ms, Ps) = lax.scan(\n",
        "        _step, carry, jnp.arange(num_timesteps)\n",
        "    )\n",
        "    return ms, Ps"
      ]
    },
    {
      "cell_type": "code",
      "execution_count": null,
      "metadata": {
        "colab": {
          "base_uri": "https://localhost:8080/",
          "height": 285
        },
        "id": "DVvCHEeNVqKB",
        "outputId": "2d98ef1a-67db-4a22-d109-4287658726bc"
      },
      "outputs": [
        {
          "data": {
            "image/png": "[encoded data removed]",
            "text/plain": [
              "<Figure size 432x288 with 1 Axes>"
            ]
          },
          "metadata": {
            "needs_background": "light"
          },
          "output_type": "display_data"
        }
      ],
      "source": [
        "# Additional params for EKF\n",
        "m_0 = jnp.array([jnp.pi/2, 0])\n",
        "P_0 = jnp.eye(2)*0.01\n",
        "\n",
        "# Compute EKF estimates\n",
        "m_ekf, P_ekf = ekf_firstorder_additive(m_0, P_0, f, h, Q, R, obs)\n",
        "\n",
        "# Plot the generated data\n",
        "plot.plot_pendulum(time_grid, states[:,0], obs, x_est=m_ekf[:,0], est_type=\"EKF\")"
      ]
    },
    {
      "cell_type": "markdown",
      "metadata": {
        "id": "AYjZoKNQafAW"
      },
      "source": [
        "Finally, we compute the RMSE of the EKF estimate."
      ]
    },
    {
      "cell_type": "code",
      "execution_count": null,
      "metadata": {
        "colab": {
          "base_uri": "https://localhost:8080/"
        },
        "id": "FcUBT4DSUDgo",
        "outputId": "93f95322-9f64-428d-ed9c-631cc84edf35"
      },
      "outputs": [
        {
          "name": "stdout",
          "output_type": "stream",
          "text": [
            "The RMSE of the EKF estimate is         : 0.14,\n",
            "The std of measurement noise is         : 0.55\n"
          ]
        }
      ],
      "source": [
        "utils.compute_and_print_rmse_comparison(states[:,0], m_ekf[:,0], R, \"EKF\")"
      ]
    },
    {
      "cell_type": "markdown",
      "metadata": {
        "id": "FWiXKmArcskB"
      },
      "source": [
        "## 5.4 Statistically Linearized Filter"
      ]
    },
    {
      "cell_type": "markdown",
      "metadata": {
        "id": "9MkxAZkhDhnn"
      },
      "source": [
        "We use Algorithm 5.10 along with the closed-form expectations (5.70)~(5.73) to compute statistically linearized filter estimate for the simulated pendulum data."
      ]
    },
    {
      "cell_type": "code",
      "execution_count": null,
      "metadata": {
        "id": "Nh4eCYxocYko"
      },
      "outputs": [],
      "source": [
        "# Additive SLF (Algorithm 5.10)\n",
        "def slf_additive(m_0, P_0, Ef, Efdx, Q, Eh, Ehdx, R, Y):\n",
        "    num_timesteps = len(Y)\n",
        "\n",
        "    def _step(carry, t):\n",
        "        m_k, P_k = carry\n",
        "\n",
        "        # Prediction step\n",
        "        m_pred = Ef(m_k, P_k)\n",
        "        P_pred = Efdx(m_k, P_k) @ jnp.linalg.inv(P_k) @ Efdx(m_k, P_k).T + Q\n",
        "\n",
        "        # Update step\n",
        "        v = Y[t] - Eh(m_pred, P_pred)\n",
        "        S = jnp.atleast_2d(Ehdx(m_pred, P_pred) @ jnp.linalg.inv(P_pred) \\\n",
        "                           @ Ehdx(m_pred, P_pred).T + R)\n",
        "        K = Ehdx(m_pred, P_pred).T @ jnp.linalg.inv(S)\n",
        "        m_post = m_pred + K @ v\n",
        "        P_post = P_pred - K @ S @ K.T\n",
        "\n",
        "        return (m_post, P_post), (m_post, P_post)\n",
        "    \n",
        "    carry = (m_0, P_0)\n",
        "    _, (ms, Ps) = lax.scan(\n",
        "        _step, carry, jnp.arange(num_timesteps)\n",
        "    )\n",
        "    return ms, Ps"
      ]
    },
    {
      "cell_type": "code",
      "execution_count": null,
      "metadata": {
        "colab": {
          "base_uri": "https://localhost:8080/",
          "height": 285
        },
        "id": "oyyVkSggX7fr",
        "outputId": "1d1494f6-6cd3-4edc-9925-e2b6312bd313"
      },
      "outputs": [
        {
          "data": {
            "image/png": "[encoded data removed]",
            "text/plain": [
              "<Figure size 432x288 with 1 Axes>"
            ]
          },
          "metadata": {
            "needs_background": "light"
          },
          "output_type": "display_data"
        }
      ],
      "source": [
        "# Params for SLF\n",
        "Ef = lambda m, P: jnp.array([m[0]+m[1]*dt, \n",
        "                             m[1]-g*jnp.sin(m[0])*jnp.exp(-P[0,0]/2)*dt])\n",
        "Eh = lambda m, P: jnp.array([jnp.sin(m[0])*jnp.exp(-P[0,0]/2)])\n",
        "c11 = lambda m, P: P[0,0] + dt*P[0,1]\n",
        "c12 = lambda m, P: P[0,1] + dt*P[1,1]\n",
        "c21 = lambda m, P: P[0,1] - g*dt*jnp.cos(m[0])*P[0,0]*jnp.exp(-P[0,0]/2)\n",
        "c22 = lambda m, P: P[1,1] - g*dt*jnp.cos(m[0])*P[0,1]*jnp.exp(-P[0,0]/2)\n",
        "Efdx = lambda m, P: jnp.array([[c11(m,P), c12(m, P)],\n",
        "                               [c21(m,P), c22(m, P)]])\n",
        "Ehdx = lambda m, P: jnp.array([[jnp.cos(m[0])*P[0,0]*jnp.exp(-P[0,0]/2),\n",
        "                                jnp.cos(m[0])*P[0,1]*jnp.exp(-P[0,0]/2)]])\n",
        "\n",
        "# Compute SLF estimates\n",
        "m_slf, P_slf = slf_additive(m_0, P_0, Ef, Efdx, Q, Eh, Ehdx, R, obs)\n",
        "\n",
        "# Plot the generated data\n",
        "plot.plot_pendulum(time_grid, states[:,0], obs, x_est=m_slf[:,0], est_type=\"SLF\")"
      ]
    },
    {
      "cell_type": "markdown",
      "metadata": {
        "id": "qGJ381mHQaPI"
      },
      "source": [
        "Finally, we compute the RMSE of the SLF estimate."
      ]
    },
    {
      "cell_type": "code",
      "execution_count": null,
      "metadata": {
        "colab": {
          "base_uri": "https://localhost:8080/"
        },
        "id": "G2V_O7Zwh0zf",
        "outputId": "d300aadc-220e-4023-a553-2fa4bd778479"
      },
      "outputs": [
        {
          "name": "stdout",
          "output_type": "stream",
          "text": [
            "The RMSE of the SLF estimate is         : 0.14,\n",
            "The std of measurement noise is         : 0.55\n"
          ]
        }
      ],
      "source": [
        "utils.compute_and_print_rmse_comparison(states[:,0], m_slf[:,0], R, \"SLF\")"
      ]
    },
    {
      "cell_type": "markdown",
      "metadata": {
        "id": "ooVp6ceEUCb5"
      },
      "source": [
        "## 5.6 Unscented Kalman Filter"
      ]
    },
    {
      "cell_type": "code",
      "execution_count": null,
      "metadata": {
        "id": "_ppEnhVDeBl-"
      },
      "outputs": [],
      "source": [
        "# Additive UKF (Algorithm 5.14)\n",
        "def ukf_additive(m_0, P_0, f, h, Q, R, alpha, beta, kappa, Y):\n",
        "    num_timesteps, n = len(Y), P_0.shape[0]\n",
        "    lamb = alpha**2 * (n + kappa) - n\n",
        "\n",
        "    # Compute weights for mean and covariance estimates\n",
        "    def compute_weights(n, alpha, beta, lamb):\n",
        "        factor = 1/(2*(n+lamb))\n",
        "        w_mean = jnp.concatenate((jnp.array([lamb/(n+lamb)]), \n",
        "                                  jnp.ones(2*n)*factor))\n",
        "        w_cov = jnp.concatenate((jnp.array([lamb/(n+lamb) + (1-alpha**2+beta)]),\n",
        "                                 jnp.ones(2*n)*factor))\n",
        "        return w_mean, w_cov\n",
        "\n",
        "    w_mean, w_cov = compute_weights(n, alpha, beta, lamb)\n",
        "\n",
        "    def _step(carry, t):\n",
        "        m_k, P_k = carry\n",
        "\n",
        "        # Prediction step:\n",
        "        # 1. Form sigma points\n",
        "        sigmas_pred = compute_sigmas(m_k, P_k, n, lamb)\n",
        "        # 2. Propagate the sigma points\n",
        "        sigmas_pred = vmap(f, 0, 0)(sigmas_pred)\n",
        "        # 3. Compute predicted mean and covariance\n",
        "        m_pred = jnp.tensordot(w_mean, sigmas_pred, axes=1)\n",
        "        outer = lambda x, y: jnp.atleast_2d(x).T @ jnp.atleast_2d(y)\n",
        "        outer = vmap(outer, 0, 0)\n",
        "        P_pred = jnp.tensordot(w_cov, \n",
        "                               outer(sigmas_pred-m_pred, sigmas_pred-m_pred), \n",
        "                               axes=1) + Q\n",
        "\n",
        "        # Update step:\n",
        "        # 1. Form sigma points\n",
        "        sigmas_update = compute_sigmas(m_pred, P_pred, n, lamb)\n",
        "        # 2. Propagate the sigma points\n",
        "        sigmas_update_prop = vmap(h, 0, 0)(sigmas_update)\n",
        "        # 3. Compute params\n",
        "        mu = jnp.tensordot(w_mean, sigmas_update_prop, axes=1)\n",
        "        S = jnp.tensordot(w_cov, \n",
        "                          outer(sigmas_update_prop-mu, sigmas_update_prop-mu), \n",
        "                          axes=1) + R\n",
        "        C = jnp.tensordot(w_cov, \n",
        "                          outer(sigmas_update-m_pred, sigmas_update_prop-mu), \n",
        "                          axes=1)\n",
        "\n",
        "        # 4. Compute posterior\n",
        "        K = C @ jnp.linalg.inv(S)\n",
        "        m_post = m_pred + K @ (Y[t] - mu)\n",
        "        P_post = P_pred - K @ S @ K.T\n",
        "        \n",
        "        return (m_post, P_post), (m_post, P_post)\n",
        "\n",
        "    # Find 2n+1 sigma points\n",
        "    def compute_sigmas(m, P, n, lamb):\n",
        "        disc = jnp.sqrt(n + lamb) * jnp.linalg.cholesky(P)\n",
        "        sigma_plus = jnp.array([m + disc[:,i] for i in range(n)])\n",
        "        sigma_minus = jnp.array([m - disc[:,i] for i in range(n)])\n",
        "        return jnp.concatenate((jnp.array([m]), sigma_plus, sigma_minus))\n",
        "\n",
        "    carry = (m_0, P_0)\n",
        "    _, (ms, Ps) = lax.scan(\n",
        "        _step, carry, jnp.arange(num_timesteps)\n",
        "    )\n",
        "    return ms, Ps"
      ]
    },
    {
      "cell_type": "code",
      "execution_count": null,
      "metadata": {
        "colab": {
          "base_uri": "https://localhost:8080/",
          "height": 285
        },
        "id": "hrI9tPAjPadv",
        "outputId": "fb454f48-5f0c-4bb2-9c3c-cb3eae8a5a2c"
      },
      "outputs": [
        {
          "data": {
            "image/png": "[encoded data removed]",
            "text/plain": [
              "<Figure size 432x288 with 1 Axes>"
            ]
          },
          "metadata": {
            "needs_background": "light"
          },
          "output_type": "display_data"
        }
      ],
      "source": [
        "# Params for UKF\n",
        "alpha, beta, kappa = 1, 1, 2\n",
        "\n",
        "# Compute SLF estimates\n",
        "m_ukf, P_ukf = ukf_additive(m_0, P_0, f, h, Q, R, alpha, beta, kappa, obs)\n",
        "\n",
        "# Plot the generated data\n",
        "plot.plot_pendulum(time_grid, states[:,0], obs, x_est=m_ukf[:,0], est_type=\"UKF\")"
      ]
    },
    {
      "cell_type": "markdown",
      "metadata": {
        "id": "x93INfnKRg6e"
      },
      "source": [
        "Finally, we compute the RMSE of the UKF estimate."
      ]
    },
    {
      "cell_type": "code",
      "execution_count": null,
      "metadata": {
        "colab": {
          "base_uri": "https://localhost:8080/"
        },
        "id": "qrxB3UuIkrlO",
        "outputId": "56bbb2a6-c0fc-40e7-c432-5d89f8eeafba"
      },
      "outputs": [
        {
          "name": "stdout",
          "output_type": "stream",
          "text": [
            "The RMSE of the UKF estimate is         : 0.14,\n",
            "The std of measurement noise is         : 0.55\n"
          ]
        }
      ],
      "source": [
        "utils.compute_and_print_rmse_comparison(states[:,0], m_ukf[:,0], R, \"UKF\")"
      ]
    }
  ],
  "metadata": {
    "colab": {
      "name": "Ch5.ipynb",
      "provenance": [],
      "include_colab_link": true
    },
    "kernelspec": {
      "display_name": "Python 3",
      "name": "python3"
    },
    "language_info": {
      "name": "python"
    }
  },
  "nbformat": 4,
  "nbformat_minor": 0
}