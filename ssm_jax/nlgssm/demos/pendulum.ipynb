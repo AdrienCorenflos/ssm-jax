{
  "cells": [
    {
      "cell_type": "markdown",
      "metadata": {
        "id": "view-in-github",
        "colab_type": "text"
      },
      "source": [
        "<a href=\"https://colab.research.google.com/github/petergchang/ssm-jax/blob/main/ssm_jax/nlgssm/demos/pendulum.ipynb\" target=\"_parent\"><img src=\"https://colab.research.google.com/assets/colab-badge.svg\" alt=\"Open In Colab\"/></a>"
      ]
    },
    {
      "cell_type": "markdown",
      "metadata": {
        "id": "4j2SH7ks97hb"
      },
      "source": [
        "# Pendulum Tracking Example for NLGSSM"
      ]
    },
    {
      "cell_type": "markdown",
      "metadata": {
        "id": "AYrePRtV4RIK"
      },
      "source": [
        "This notebook demonstrates a simple pendulum tracking example for EKF, UKF, SLF, and PF using the implementations in `ssm_jax/nlgssm`.\n",
        "\n",
        "The example is taken from Simo Särkkä (2013), “Bayesian Filtering and Smoothing,” Cambridge University Press. Available: https://users.aalto.fi/~ssarkka/pub/cup_book_online_20131111.pdf\n",
        "\n",
        "The JAX translation is by Peter G. Chang ([@petergchang](https://github.com/petergchang)) and taken from the [särkkä-jax](https://github.com/petergchang/sarkka-jax) repo.\n",
        "\n"
      ]
    },
    {
      "cell_type": "markdown",
      "metadata": {
        "id": "vLt4p8Tx4hWN"
      },
      "source": [
        "## 0. Imports and Formatting"
      ]
    },
    {
      "cell_type": "code",
      "execution_count": 1,
      "metadata": {
        "colab": {
          "base_uri": "https://localhost:8080/"
        },
        "id": "djYX5weABagr",
        "outputId": "f2d39bcb-d4ce-463d-894f-51c1b2cb2847"
      },
      "outputs": [
        {
          "output_type": "stream",
          "name": "stdout",
          "text": [
            "Cloning into 'ssm-jax'...\n",
            "remote: Enumerating objects: 840, done.\u001b[K\n",
            "remote: Counting objects: 100% (301/301), done.\u001b[K\n",
            "remote: Compressing objects: 100% (148/148), done.\u001b[K\n",
            "remote: Total 840 (delta 159), reused 229 (delta 141), pack-reused 539\u001b[K\n",
            "Receiving objects: 100% (840/840), 2.75 MiB | 4.36 MiB/s, done.\n",
            "Resolving deltas: 100% (487/487), done.\n",
            "/content/ssm-jax\n",
            "Looking in indexes: https://pypi.org/simple, https://us-python.pkg.dev/colab-wheels/public/simple/\n",
            "Obtaining file:///content/ssm-jax\n",
            "Requirement already satisfied: jax in /usr/local/lib/python3.7/dist-packages (from ssm-jax==0.1) (0.3.8)\n",
            "Requirement already satisfied: jaxlib in /usr/local/lib/python3.7/dist-packages (from ssm-jax==0.1) (0.3.7+cuda11.cudnn805)\n",
            "Collecting optax\n",
            "  Downloading optax-0.1.2-py3-none-any.whl (140 kB)\n",
            "\u001b[K     |████████████████████████████████| 140 kB 13.8 MB/s \n",
            "\u001b[?25hCollecting chex\n",
            "  Downloading chex-0.1.3-py3-none-any.whl (72 kB)\n",
            "\u001b[K     |████████████████████████████████| 72 kB 614 kB/s \n",
            "\u001b[?25hCollecting distrax\n",
            "  Downloading distrax-0.1.2-py3-none-any.whl (272 kB)\n",
            "\u001b[K     |████████████████████████████████| 272 kB 68.1 MB/s \n",
            "\u001b[?25hRequirement already satisfied: tensorflow_probability in /usr/local/lib/python3.7/dist-packages (from ssm-jax==0.1) (0.16.0)\n",
            "Requirement already satisfied: absl-py>=0.9.0 in /usr/local/lib/python3.7/dist-packages (from chex->ssm-jax==0.1) (1.1.0)\n",
            "Requirement already satisfied: dm-tree>=0.1.5 in /usr/local/lib/python3.7/dist-packages (from chex->ssm-jax==0.1) (0.1.7)\n",
            "Requirement already satisfied: toolz>=0.9.0 in /usr/local/lib/python3.7/dist-packages (from chex->ssm-jax==0.1) (0.11.2)\n",
            "Requirement already satisfied: numpy>=1.18.0 in /usr/local/lib/python3.7/dist-packages (from chex->ssm-jax==0.1) (1.21.6)\n",
            "Requirement already satisfied: scipy>=1.2.1 in /usr/local/lib/python3.7/dist-packages (from jax->ssm-jax==0.1) (1.4.1)\n",
            "Requirement already satisfied: opt-einsum in /usr/local/lib/python3.7/dist-packages (from jax->ssm-jax==0.1) (3.3.0)\n",
            "Requirement already satisfied: typing-extensions in /usr/local/lib/python3.7/dist-packages (from jax->ssm-jax==0.1) (4.1.1)\n",
            "Requirement already satisfied: flatbuffers<3.0,>=1.12 in /usr/local/lib/python3.7/dist-packages (from jaxlib->ssm-jax==0.1) (2.0)\n",
            "Requirement already satisfied: decorator in /usr/local/lib/python3.7/dist-packages (from tensorflow_probability->ssm-jax==0.1) (4.4.2)\n",
            "Requirement already satisfied: cloudpickle>=1.3 in /usr/local/lib/python3.7/dist-packages (from tensorflow_probability->ssm-jax==0.1) (1.3.0)\n",
            "Requirement already satisfied: six>=1.10.0 in /usr/local/lib/python3.7/dist-packages (from tensorflow_probability->ssm-jax==0.1) (1.15.0)\n",
            "Requirement already satisfied: gast>=0.3.2 in /usr/local/lib/python3.7/dist-packages (from tensorflow_probability->ssm-jax==0.1) (0.5.3)\n",
            "Installing collected packages: chex, optax, distrax, ssm-jax\n",
            "  Running setup.py develop for ssm-jax\n",
            "Successfully installed chex-0.1.3 distrax-0.1.2 optax-0.1.2 ssm-jax-0.1\n"
          ]
        }
      ],
      "source": [
        "# TODO: Change to https://github.com/probml/ssm-jax.git after PR merged\n",
        "!git clone https://github.com/petergchang/ssm-jax.git\n",
        "%cd ssm-jax\n",
        "!pip install -e ."
      ]
    },
    {
      "cell_type": "code",
      "execution_count": 2,
      "metadata": {
        "id": "U4xUpwZM3-z5"
      },
      "outputs": [],
      "source": [
        "%matplotlib inline\n",
        "import matplotlib.pyplot as plt\n",
        "\n",
        "import chex\n",
        "import jax\n",
        "import jax.numpy as jnp\n",
        "import jax.random as jr\n",
        "from jax import vmap\n",
        "from jax import lax\n",
        "from jax import jacfwd\n",
        "from typing import Callable\n",
        "\n",
        "from ssm_jax.lgssm.inference import lgssm_filter\n",
        "from ssm_jax.lgssm.models import LinearGaussianSSM\n",
        "from ssm_jax.nlgssm.extended_inference import extended_kalman_filter\n",
        "from ssm_jax.nlgssm.containers import NLGSSMParams"
      ]
    },
    {
      "cell_type": "code",
      "execution_count": 3,
      "metadata": {
        "id": "Lh8pVrU6oNsW"
      },
      "outputs": [],
      "source": [
        "# For pretty print of ndarrays\n",
        "jnp.set_printoptions(formatter={'float_kind':\"{:.2f}\".format})"
      ]
    },
    {
      "cell_type": "markdown",
      "metadata": {
        "id": "33ISOI7QtWlP"
      },
      "source": [
        "## 1. Simulation and Plotting"
      ]
    },
    {
      "cell_type": "markdown",
      "metadata": {
        "id": "BLuO9E_etVp-"
      },
      "source": [
        "We simulate the pendulum data using the following transition model:\n",
        "\\begin{align*}\n",
        "  \\begin{pmatrix} x_{1,k} \\\\ x_{2,k} \\end{pmatrix} &= \n",
        "  \\begin{pmatrix} x_{1,k-1} + x_{2,k-1} \\Delta t \\\\\n",
        "    x_{2,k-1} - g \\sin(x_{1,k-1}) \\Delta t\n",
        "  \\end{pmatrix} + q_{k-1} \\\\\n",
        "  y_{k} &= \\sin(x_{1,k}) + r_k \\\\\n",
        "  y_{x_k} &= \\arcsin(y_k) = \\arcsin(\\sin(x_{1,k}) + r_k)\n",
        "\\end{align*}"
      ]
    },
    {
      "cell_type": "code",
      "source": [
        "# Some parameters\n",
        "dt = 0.0125\n",
        "g = 9.8\n",
        "q_c = 1\n",
        "r = 0.3\n",
        "\n",
        "# Lightweight container for pendulum parameters\n",
        "@chex.dataclass\n",
        "class PendulumParams:\n",
        "    initial_state: chex.Array = jnp.array([jnp.pi/2, 0])\n",
        "    dynamics_function: Callable = lambda x: jnp.array([x[0] + x[1]*dt, \n",
        "                                                       x[1] - g*jnp.sin(x[0])*dt])\n",
        "    dynamics_covariance: chex.Array = jnp.array([[q_c*dt**3/3, q_c*dt**2/2],\n",
        "                                                 [q_c*dt**2/2,      q_c*dt]])\n",
        "    emission_function: Callable = lambda x: jnp.array([jnp.sin(x[0])])\n",
        "    emission_covariance: chex.Array = jnp.eye(1) * (r**2)"
      ],
      "metadata": {
        "id": "cZftka6dazaA",
        "outputId": "7fc2cc44-b0f1-413b-cd56-fa7d9fe00ab6",
        "colab": {
          "base_uri": "https://localhost:8080/"
        }
      },
      "execution_count": 4,
      "outputs": [
        {
          "output_type": "stream",
          "name": "stderr",
          "text": [
            "WARNING:absl:No GPU/TPU found, falling back to CPU. (Set TF_CPP_MIN_LOG_LEVEL=0 and rerun for more info.)\n"
          ]
        }
      ]
    },
    {
      "cell_type": "code",
      "execution_count": 5,
      "metadata": {
        "id": "GTcJutobtduz"
      },
      "outputs": [],
      "source": [
        "# Pendulum simulation (Särkkä Example 3.7)\n",
        "def simulate_pendulum(params=PendulumParams(), key=0, num_steps=400):\n",
        "    if isinstance(key, int):\n",
        "        key = jr.PRNGKey(key)\n",
        "    # Unpack parameters\n",
        "    M, N = params.initial_state.shape[0], params.emission_covariance.shape[0]\n",
        "    f, h = params.dynamics_function, params.emission_function\n",
        "    Q, R = params.dynamics_covariance, params.emission_covariance\n",
        "\n",
        "    def _step(carry, rng):\n",
        "        state = carry\n",
        "        rng1, rng2 = jr.split(rng, 2)\n",
        "\n",
        "        next_state = f(state) + jr.multivariate_normal(rng1, jnp.zeros(M), Q)\n",
        "        obs = h(next_state) + jr.multivariate_normal(rng2, jnp.zeros(N), R)\n",
        "        return next_state, (next_state, obs)\n",
        "\n",
        "    rngs = jr.split(key, num_steps)\n",
        "    _, (states, observations) = lax.scan(\n",
        "        _step, params.initial_state, rngs\n",
        "    )\n",
        "    return states, observations\n",
        "\n",
        "states, obs = simulate_pendulum()"
      ]
    },
    {
      "cell_type": "code",
      "source": [
        "# Helper function for plotting\n",
        "def plot_pendulum(time_grid, x_tr, x_obs, x_est=None, est_type=\"\"):\n",
        "    plt.figure()\n",
        "    plt.plot(time_grid, x_tr, color='darkgray', linewidth=4, label=\"True Angle\")\n",
        "    plt.plot(time_grid, x_obs, 'ok', fillstyle='none', ms=1.5, label='Measurements')\n",
        "    if x_est is not None:\n",
        "        plt.plot(time_grid, x_est, color='k', linewidth=1.5, label=f\"{est_type} Estimate\")\n",
        "    plt.xlabel('Time $t$'); plt.ylabel('Pendulum angle $x_{1,k}$')\n",
        "    plt.xlim(0, 5); plt.ylim(-3, 5)\n",
        "    plt.xticks(jnp.arange(0.5, 4.6, 0.5))\n",
        "    plt.yticks(jnp.arange(-3, 5.1, 1))\n",
        "    plt.gca().set_aspect(0.5)\n",
        "    plt.legend(loc=1, borderpad=0.5, handlelength=4, fancybox=False, edgecolor='k');\n",
        "    plt.show()"
      ],
      "metadata": {
        "id": "4-sZDJ0odC8d"
      },
      "execution_count": 6,
      "outputs": []
    },
    {
      "cell_type": "code",
      "execution_count": 7,
      "metadata": {
        "colab": {
          "base_uri": "https://localhost:8080/",
          "height": 0
        },
        "id": "QTTt7NKfwPwR",
        "outputId": "89b4b9bd-6dca-46a1-c25b-5eadfb13a5fd"
      },
      "outputs": [
        {
          "output_type": "display_data",
          "data": {
            "text/plain": [
              "<Figure size 432x288 with 1 Axes>"
            ],
            "image/png": "[encoded data removed]"
          },
          "metadata": {
            "needs_background": "light"
          }
        }
      ],
      "source": [
        "# Create time grid for plotting\n",
        "time_grid = jnp.arange(0.0, 5.0, step=dt)\n",
        "\n",
        "# Plot the generated data\n",
        "plot_pendulum(time_grid, states[:,0], obs)"
      ]
    },
    {
      "cell_type": "code",
      "source": [
        "# Compute RMSE\n",
        "def compute_rmse(y, y_est):\n",
        "    return jnp.sqrt(jnp.sum((y-y_est)**2) / len(y))\n",
        "\n",
        "# Compute RMSE of estimate and print comparison with \n",
        "# standard deviation of measurement noise\n",
        "def compute_and_print_rmse_comparison(y, y_est, R, est_type=\"\"):\n",
        "    rmse_est = compute_rmse(y, y_est)\n",
        "    print(f'{f\"The RMSE of the {est_type} estimate is\":<40}: {rmse_est:.2f}')\n",
        "    print(f'{\"The std of measurement noise is\":<40}: {jnp.sqrt(R):.2f}')"
      ],
      "metadata": {
        "id": "Fb3OXaaEiEoV"
      },
      "execution_count": 8,
      "outputs": []
    },
    {
      "cell_type": "markdown",
      "source": [
        "## 2. Extended Kalman Filter"
      ],
      "metadata": {
        "id": "5Rx9XE5Af2sP"
      }
    },
    {
      "cell_type": "code",
      "source": [
        "pendulum_params = PendulumParams()\n",
        "\n",
        "# Define parameters for EKF\n",
        "ekf_params = NLGSSMParams(\n",
        "    initial_mean = pendulum_params.initial_state,\n",
        "    initial_covariance = jnp.eye(states.shape[-1])*0.1,\n",
        "    dynamics_function = pendulum_params.dynamics_function,\n",
        "    dynamics_covariance = pendulum_params.dynamics_covariance,\n",
        "    emission_function = pendulum_params.emission_function,\n",
        "    emission_covariance = pendulum_params.emission_covariance\n",
        ")\n",
        "\n",
        "# Compute EKF estimate using SSM Library\n",
        "ekf_posterior = extended_kalman_filter(ekf_params, obs)\n",
        "m_ekf = ekf_posterior.filtered_means[:,0]"
      ],
      "metadata": {
        "id": "jWRhHTOCgIAj"
      },
      "execution_count": 9,
      "outputs": []
    },
    {
      "cell_type": "code",
      "source": [
        "# Plot EKF results\n",
        "plot_pendulum(time_grid, states[:,0], obs, x_est=m_ekf, est_type=\"EKF\")"
      ],
      "metadata": {
        "id": "icfpJJs3ik2i",
        "outputId": "22093e02-d3ec-4dee-8b88-38ca1614104b",
        "colab": {
          "base_uri": "https://localhost:8080/",
          "height": 285
        }
      },
      "execution_count": 10,
      "outputs": [
        {
          "output_type": "display_data",
          "data": {
            "text/plain": [
              "<Figure size 432x288 with 1 Axes>"
            ],
            "image/png": "[encoded data removed]"
          },
          "metadata": {
            "needs_background": "light"
          }
        }
      ]
    },
    {
      "cell_type": "code",
      "execution_count": 11,
      "metadata": {
        "colab": {
          "base_uri": "https://localhost:8080/"
        },
        "id": "FcUBT4DSUDgo",
        "outputId": "522b70c6-6d8d-4dca-9cef-32ef0497aeec"
      },
      "outputs": [
        {
          "output_type": "stream",
          "name": "stdout",
          "text": [
            "The RMSE of the EKF estimate is         : 0.14\n",
            "The std of measurement noise is         : 0.55\n"
          ]
        }
      ],
      "source": [
        "compute_and_print_rmse_comparison(states[:,0], m_ekf, r, \"EKF\")"
      ]
    }
  ],
  "metadata": {
    "colab": {
      "name": "pendulum.ipynb",
      "provenance": [],
      "include_colab_link": true
    },
    "kernelspec": {
      "display_name": "Python 3",
      "name": "python3"
    },
    "language_info": {
      "name": "python"
    }
  },
  "nbformat": 4,
  "nbformat_minor": 0
}